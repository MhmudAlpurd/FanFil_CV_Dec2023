{
 "cells": [
  {
   "cell_type": "code",
   "execution_count": 15,
   "id": "9dbdc05d",
   "metadata": {},
   "outputs": [],
   "source": [
    "import keras\n",
    "from keras.datasets import mnist\n",
    "from keras.layers import Conv2D,MaxPooling2D, UpSampling2D, Flatten, Dense, Conv2DTranspose\n",
    "from keras.models import Sequential\n",
    "import numpy as np\n",
    "import matplotlib.pyplot as plt"
   ]
  },
  {
   "cell_type": "code",
   "execution_count": 2,
   "id": "4f1889e0",
   "metadata": {},
   "outputs": [],
   "source": [
    "(x_train, y_train), (x_test, y_test) = mnist.load_data()"
   ]
  },
  {
   "cell_type": "code",
   "execution_count": 3,
   "id": "90416636",
   "metadata": {},
   "outputs": [],
   "source": [
    "x_train = x_train.astype('float32')/255.0\n",
    "x_test = x_test.astype('float32')/255.0"
   ]
  },
  {
   "cell_type": "code",
   "execution_count": 4,
   "id": "f0d788d7",
   "metadata": {},
   "outputs": [],
   "source": [
    "x_train = x_train.reshape(-1, 28, 28, 1)\n",
    "x_test = x_test.reshape(-1, 28, 28, 1)"
   ]
  },
  {
   "cell_type": "code",
   "execution_count": 5,
   "id": "4b4d1018",
   "metadata": {},
   "outputs": [],
   "source": [
    "#adding gaussian noise. \n",
    "x_train_noisy = x_train + 0.5*np.random.normal(loc=0.0, scale=0.1, size= x_train.shape)\n",
    "x_test_noisy = x_test + 0.5*np.random.normal(loc=0.0, scale=0.1, size=x_test.shape)\n"
   ]
  },
  {
   "cell_type": "code",
   "execution_count": 6,
   "id": "efbec4fc",
   "metadata": {},
   "outputs": [],
   "source": [
    "x_train_noisy = np.clip(x_train_noisy, 0, 1)\n",
    "x_test_noisy = np.clip(x_test_noisy, 0, 1)"
   ]
  },
  {
   "cell_type": "code",
   "execution_count": 7,
   "id": "57c70937",
   "metadata": {},
   "outputs": [
    {
     "data": {
      "text/plain": [
       "<matplotlib.image.AxesImage at 0x79765e0b71f0>"
      ]
     },
     "execution_count": 7,
     "metadata": {},
     "output_type": "execute_result"
    },
    {
     "data": {
      "image/png": "[encoded data removed]",
      "text/plain": [
       "<Figure size 432x288 with 1 Axes>"
      ]
     },
     "metadata": {
      "needs_background": "light"
     },
     "output_type": "display_data"
    }
   ],
   "source": [
    "plt.imshow(x_train[0], cmap='gray')"
   ]
  },
  {
   "cell_type": "code",
   "execution_count": 8,
   "id": "1c725115",
   "metadata": {},
   "outputs": [
    {
     "data": {
      "text/plain": [
       "<matplotlib.image.AxesImage at 0x79765611f820>"
      ]
     },
     "execution_count": 8,
     "metadata": {},
     "output_type": "execute_result"
    },
    {
     "data": {
      "image/png": "[encoded data removed]",
      "text/plain": [
       "<Figure size 432x288 with 1 Axes>"
      ]
     },
     "metadata": {
      "needs_background": "light"
     },
     "output_type": "display_data"
    }
   ],
   "source": [
    "plt.imshow(x_train_noisy[0], cmap='gray')"
   ]
  },
  {
   "cell_type": "code",
   "execution_count": 9,
   "id": "1dc4f2e2",
   "metadata": {},
   "outputs": [
    {
     "name": "stderr",
     "output_type": "stream",
     "text": [
      "2024-06-14 20:48:08.961812: W tensorflow/stream_executor/platform/default/dso_loader.cc:64] Could not load dynamic library 'libcuda.so.1'; dlerror: libcuda.so.1: cannot open shared object file: No such file or directory; LD_LIBRARY_PATH: /opt/ros/rolling/opt/rviz_ogre_vendor/lib:/opt/ros/rolling/lib/x86_64-linux-gnu:/opt/ros/rolling/lib\n",
      "2024-06-14 20:48:08.961847: W tensorflow/stream_executor/cuda/cuda_driver.cc:263] failed call to cuInit: UNKNOWN ERROR (303)\n",
      "2024-06-14 20:48:08.961868: I tensorflow/stream_executor/cuda/cuda_diagnostics.cc:156] kernel driver does not appear to be running on this host (mhmud): /proc/driver/nvidia/version does not exist\n",
      "2024-06-14 20:48:08.962142: I tensorflow/core/platform/cpu_feature_guard.cc:193] This TensorFlow binary is optimized with oneAPI Deep Neural Network Library (oneDNN) to use the following CPU instructions in performance-critical operations:  AVX2 FMA\n",
      "To enable them in other operations, rebuild TensorFlow with the appropriate compiler flags.\n"
     ]
    }
   ],
   "source": [
    "model = Sequential()\n",
    "\n",
    "#encoder\n",
    "model.add(Conv2D(32, (3, 3), activation='relu', padding='same', input_shape=(28, 28, 1)))\n",
    "model.add(MaxPooling2D((2, 2), padding='same'))\n",
    "model.add(Conv2D(8, (3, 3), activation='relu', padding='same'))\n",
    "model.add(MaxPooling2D((2, 2), padding='same'))\n",
    "model.add(Conv2D(8, (3, 3), activation='relu', padding='same'))\n",
    "model.add(MaxPooling2D((2, 2), padding='same'))\n",
    "\n",
    "#decoder\n",
    "model.add(Conv2D(8, (3, 3), activation='relu', padding='same'))\n",
    "model.add(UpSampling2D((2, 2)))\n",
    "model.add(Conv2D(8, (3, 3), activation='relu', padding='same'))\n",
    "model.add(UpSampling2D((2, 2)))\n",
    "model.add(Conv2D(32, (3, 3), activation='relu'))\n",
    "model.add(UpSampling2D((2, 2)))\n",
    "model.add(Conv2D(1, (3, 3), activation='relu', padding='same'))\n"
   ]
  },
  {
   "cell_type": "code",
   "execution_count": 10,
   "id": "d78d3bb7",
   "metadata": {},
   "outputs": [
    {
     "name": "stdout",
     "output_type": "stream",
     "text": [
      "Model: \"sequential\"\n",
      "_________________________________________________________________\n",
      " Layer (type)                Output Shape              Param #   \n",
      "=================================================================\n",
      " conv2d (Conv2D)             (None, 28, 28, 32)        320       \n",
      "                                                                 \n",
      " max_pooling2d (MaxPooling2D  (None, 14, 14, 32)       0         \n",
      " )                                                               \n",
      "                                                                 \n",
      " conv2d_1 (Conv2D)           (None, 14, 14, 8)         2312      \n",
      "                                                                 \n",
      " max_pooling2d_1 (MaxPooling  (None, 7, 7, 8)          0         \n",
      " 2D)                                                             \n",
      "                                                                 \n",
      " conv2d_2 (Conv2D)           (None, 7, 7, 8)           584       \n",
      "                                                                 \n",
      " max_pooling2d_2 (MaxPooling  (None, 4, 4, 8)          0         \n",
      " 2D)                                                             \n",
      "                                                                 \n",
      " conv2d_3 (Conv2D)           (None, 4, 4, 8)           584       \n",
      "                                                                 \n",
      " up_sampling2d (UpSampling2D  (None, 8, 8, 8)          0         \n",
      " )                                                               \n",
      "                                                                 \n",
      " conv2d_4 (Conv2D)           (None, 8, 8, 8)           584       \n",
      "                                                                 \n",
      " up_sampling2d_1 (UpSampling  (None, 16, 16, 8)        0         \n",
      " 2D)                                                             \n",
      "                                                                 \n",
      " conv2d_5 (Conv2D)           (None, 14, 14, 32)        2336      \n",
      "                                                                 \n",
      " up_sampling2d_2 (UpSampling  (None, 28, 28, 32)       0         \n",
      " 2D)                                                             \n",
      "                                                                 \n",
      " conv2d_6 (Conv2D)           (None, 28, 28, 1)         289       \n",
      "                                                                 \n",
      "=================================================================\n",
      "Total params: 7,009\n",
      "Trainable params: 7,009\n",
      "Non-trainable params: 0\n",
      "_________________________________________________________________\n",
      "Epoch 1/20\n"
     ]
    },
    {
     "name": "stderr",
     "output_type": "stream",
     "text": [
      "2024-06-14 20:48:09.213632: W tensorflow/core/framework/cpu_allocator_impl.cc:82] Allocation of 188160000 exceeds 10% of free system memory.\n",
      "2024-06-14 20:48:09.324305: W tensorflow/core/framework/cpu_allocator_impl.cc:82] Allocation of 188160000 exceeds 10% of free system memory.\n"
     ]
    },
    {
     "name": "stdout",
     "output_type": "stream",
     "text": [
      "1875/1875 [==============================] - 95s 51ms/step - loss: 0.0262 - val_loss: 0.0181\n",
      "Epoch 2/20\n",
      "1875/1875 [==============================] - 82s 44ms/step - loss: 0.0166 - val_loss: 0.0148\n",
      "Epoch 3/20\n",
      "1875/1875 [==============================] - 94s 50ms/step - loss: 0.0144 - val_loss: 0.0136\n",
      "Epoch 4/20\n",
      "1875/1875 [==============================] - 86s 46ms/step - loss: 0.0132 - val_loss: 0.0123\n",
      "Epoch 5/20\n",
      "1875/1875 [==============================] - 97s 52ms/step - loss: 0.0124 - val_loss: 0.0119\n",
      "Epoch 6/20\n",
      "1875/1875 [==============================] - 100s 53ms/step - loss: 0.0118 - val_loss: 0.0114\n",
      "Epoch 7/20\n",
      "1875/1875 [==============================] - 101s 54ms/step - loss: 0.0113 - val_loss: 0.0110\n",
      "Epoch 8/20\n",
      "1875/1875 [==============================] - 107s 57ms/step - loss: 0.0110 - val_loss: 0.0105\n",
      "Epoch 9/20\n",
      "1875/1875 [==============================] - 77s 41ms/step - loss: 0.0107 - val_loss: 0.0102\n",
      "Epoch 10/20\n",
      "1875/1875 [==============================] - 108s 57ms/step - loss: 0.0105 - val_loss: 0.0101\n",
      "Epoch 11/20\n",
      "1875/1875 [==============================] - 96s 51ms/step - loss: 0.0103 - val_loss: 0.0100\n",
      "Epoch 12/20\n",
      "1875/1875 [==============================] - 100s 53ms/step - loss: 0.0102 - val_loss: 0.0099\n",
      "Epoch 13/20\n",
      "1875/1875 [==============================] - 99s 53ms/step - loss: 0.0100 - val_loss: 0.0097\n",
      "Epoch 14/20\n",
      "1875/1875 [==============================] - 91s 49ms/step - loss: 0.0099 - val_loss: 0.0098\n",
      "Epoch 15/20\n",
      "1875/1875 [==============================] - 85s 46ms/step - loss: 0.0098 - val_loss: 0.0099\n",
      "Epoch 16/20\n",
      "1875/1875 [==============================] - 89s 47ms/step - loss: 0.0097 - val_loss: 0.0096\n",
      "Epoch 17/20\n",
      "1875/1875 [==============================] - 125s 67ms/step - loss: 0.0097 - val_loss: 0.0093\n",
      "Epoch 18/20\n",
      "1875/1875 [==============================] - 91s 49ms/step - loss: 0.0096 - val_loss: 0.0092\n",
      "Epoch 19/20\n",
      "1875/1875 [==============================] - 89s 47ms/step - loss: 0.0095 - val_loss: 0.0093\n",
      "Epoch 20/20\n",
      "1875/1875 [==============================] - 85s 45ms/step - loss: 0.0095 - val_loss: 0.0091\n"
     ]
    },
    {
     "data": {
      "text/plain": [
       "<keras.callbacks.History at 0x797656193ee0>"
      ]
     },
     "execution_count": 10,
     "metadata": {},
     "output_type": "execute_result"
    }
   ],
   "source": [
    "model.compile(optimizer='adam', loss='mse')\n",
    "model.summary()\n",
    "model.fit(x_train_noisy, x_train, epochs=20, batch_size=32, validation_data=(x_test_noisy, x_test) )"
   ]
  },
  {
   "cell_type": "code",
   "execution_count": 11,
   "id": "f114bc84",
   "metadata": {},
   "outputs": [
    {
     "data": {
      "text/plain": [
       "<matplotlib.image.AxesImage at 0x7976555b8bb0>"
      ]
     },
     "execution_count": 11,
     "metadata": {},
     "output_type": "execute_result"
    },
    {
     "data": {
      "image/png": "[encoded data removed]",
      "text/plain": [
       "<Figure size 432x288 with 1 Axes>"
      ]
     },
     "metadata": {
      "needs_background": "light"
     },
     "output_type": "display_data"
    }
   ],
   "source": [
    "plt.imshow(x_test_noisy[5], cmap='gray')"
   ]
  },
  {
   "cell_type": "code",
   "execution_count": 12,
   "id": "cac61d41",
   "metadata": {},
   "outputs": [
    {
     "name": "stdout",
     "output_type": "stream",
     "text": [
      "313/313 [==============================] - 3s 9ms/step\n"
     ]
    }
   ],
   "source": [
    "denoised_img = model.predict(x_test_noisy)"
   ]
  },
  {
   "cell_type": "code",
   "execution_count": 13,
   "id": "f6b5750f",
   "metadata": {},
   "outputs": [
    {
     "data": {
      "text/plain": [
       "<matplotlib.image.AxesImage at 0x797655499b70>"
      ]
     },
     "execution_count": 13,
     "metadata": {},
     "output_type": "execute_result"
    },
    {
     "data": {
      "image/png": "[encoded data removed]",
      "text/plain": [
       "<Figure size 432x288 with 1 Axes>"
      ]
     },
     "metadata": {
      "needs_background": "light"
     },
     "output_type": "display_data"
    }
   ],
   "source": [
    "plt.imshow(denoised_img[5], cmap='gray')"
   ]
  },
  {
   "cell_type": "code",
   "execution_count": 14,
   "id": "b78c453b",
   "metadata": {},
   "outputs": [],
   "source": [
    "#ref:https://github.com/bnsreenu/python_for_microscopists/blob/master/086--auto_denoise_mnist.py"
   ]
  },
  {
   "cell_type": "code",
   "execution_count": null,
   "id": "9ed3c227",
   "metadata": {},
   "outputs": [],
   "source": []
  }
 ],
 "metadata": {
  "kernelspec": {
   "display_name": "Python 3 (ipykernel)",
   "language": "python",
   "name": "python3"
  },
  "language_info": {
   "codemirror_mode": {
    "name": "ipython",
    "version": 3
   },
   "file_extension": ".py",
   "mimetype": "text/x-python",
   "name": "python",
   "nbconvert_exporter": "python",
   "pygments_lexer": "ipython3",
   "version": "3.10.12"
  }
 },
 "nbformat": 4,
 "nbformat_minor": 5
}
