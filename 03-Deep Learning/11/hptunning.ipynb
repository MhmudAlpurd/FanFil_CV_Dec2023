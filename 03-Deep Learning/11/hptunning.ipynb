{
  "nbformat": 4,
  "nbformat_minor": 0,
  "metadata": {
    "colab": {
      "provenance": [],
      "gpuType": "T4"
    },
    "kernelspec": {
      "name": "python3",
      "display_name": "Python 3"
    },
    "language_info": {
      "name": "python"
    },
    "accelerator": "GPU"
  },
  "cells": [
    {
      "cell_type": "code",
      "execution_count": 1,
      "metadata": {
        "colab": {
          "base_uri": "https://localhost:8080/"
        },
        "id": "PFUD-bkLqDPX",
        "outputId": "88e39bc8-43b0-4ee6-ae9c-a3bf646f6e0e"
      },
      "outputs": [
        {
          "output_type": "stream",
          "name": "stdout",
          "text": [
            "Collecting keras_tuner\n",
            "  Downloading keras_tuner-1.4.7-py3-none-any.whl (129 kB)\n",
            "\u001b[2K     \u001b[90m━━━━━━━━━━━━━━━━━━━━━━━━━━━━━━━━━━━━━━━━\u001b[0m \u001b[32m129.1/129.1 kB\u001b[0m \u001b[31m3.2 MB/s\u001b[0m eta \u001b[36m0:00:00\u001b[0m\n",
            "\u001b[?25hRequirement already satisfied: keras in /usr/local/lib/python3.10/dist-packages (from keras_tuner) (2.15.0)\n",
            "Requirement already satisfied: packaging in /usr/local/lib/python3.10/dist-packages (from keras_tuner) (24.1)\n",
            "Requirement already satisfied: requests in /usr/local/lib/python3.10/dist-packages (from keras_tuner) (2.31.0)\n",
            "Collecting kt-legacy (from keras_tuner)\n",
            "  Downloading kt_legacy-1.0.5-py3-none-any.whl (9.6 kB)\n",
            "Requirement already satisfied: charset-normalizer<4,>=2 in /usr/local/lib/python3.10/dist-packages (from requests->keras_tuner) (3.3.2)\n",
            "Requirement already satisfied: idna<4,>=2.5 in /usr/local/lib/python3.10/dist-packages (from requests->keras_tuner) (3.7)\n",
            "Requirement already satisfied: urllib3<3,>=1.21.1 in /usr/local/lib/python3.10/dist-packages (from requests->keras_tuner) (2.0.7)\n",
            "Requirement already satisfied: certifi>=2017.4.17 in /usr/local/lib/python3.10/dist-packages (from requests->keras_tuner) (2024.6.2)\n",
            "Installing collected packages: kt-legacy, keras_tuner\n",
            "Successfully installed keras_tuner-1.4.7 kt-legacy-1.0.5\n"
          ]
        }
      ],
      "source": [
        "!pip install keras_tuner --upgrade"
      ]
    },
    {
      "cell_type": "code",
      "source": [
        "import keras\n",
        "from keras.datasets import mnist\n",
        "import matplotlib.pyplot as plt\n",
        "from keras.layers import Conv2D, MaxPooling2D, Dense, Flatten, Dropout"
      ],
      "metadata": {
        "id": "dosod-LbqG5F"
      },
      "execution_count": 2,
      "outputs": []
    },
    {
      "cell_type": "code",
      "source": [
        "(x_train, y_train), (x_test, y_test) = mnist.load_data()"
      ],
      "metadata": {
        "colab": {
          "base_uri": "https://localhost:8080/"
        },
        "id": "Wzl84OwfqMJE",
        "outputId": "057655ca-4353-48f7-8cc5-ddb30c9fcf9f"
      },
      "execution_count": 3,
      "outputs": [
        {
          "output_type": "stream",
          "name": "stdout",
          "text": [
            "Downloading data from https://storage.googleapis.com/tensorflow/tf-keras-datasets/mnist.npz\n",
            "11490434/11490434 [==============================] - 0s 0us/step\n"
          ]
        }
      ]
    },
    {
      "cell_type": "code",
      "source": [
        "plt.imshow(x_train[0], cmap='gray')\n",
        "plt.show()"
      ],
      "metadata": {
        "colab": {
          "base_uri": "https://localhost:8080/",
          "height": 430
        },
        "id": "9bj7AQV9qPjl",
        "outputId": "820256c1-6832-445e-ed2a-5ff9dc851e52"
      },
      "execution_count": 4,
      "outputs": [
        {
          "output_type": "display_data",
          "data": {
            "text/plain": [
              "<Figure size 640x480 with 1 Axes>"
            ],
            "image/png": "[encoded data removed]"
          },
          "metadata": {}
        }
      ]
    },
    {
      "cell_type": "code",
      "source": [
        "x_train = x_train.reshape(-1, 28, 28, 1)\n",
        "x_test = x_test.reshape(-1, 28, 28, 1)"
      ],
      "metadata": {
        "id": "pLl_DsqLqRrt"
      },
      "execution_count": 5,
      "outputs": []
    },
    {
      "cell_type": "code",
      "source": [
        "#grid search ro random search\n",
        "\n",
        "def build_model(hp):\n",
        "  model = keras.models.Sequential()\n",
        "  model.add(Conv2D(hp.Int('Num_of_Kernel_1', min_value=10, max_value=200, step=10), (3, 3), input_shape=(28, 28, 1), activation='relu'))\n",
        "  model.add(MaxPooling2D(pool_size=(2, 2)))\n",
        "\n",
        "  if hp.Boolean('dropout'):\n",
        "    model.add(Dropout(0.2))\n",
        "\n",
        "\n",
        "  for i in range(hp.Int('Num_of_conv2d', 2, 5)):\n",
        "     model.add(Conv2D(hp.Int('Num_of_Kernel_{i}', min_value=10, max_value=200, step=10), (3, 3), activation='relu'))\n",
        "\n",
        "  model.add(Conv2D(64, (hp.Choice('x_kernel_size', [3, 5]), hp.Choice('y_kernel_size', [3, 5])), activation='relu'))\n",
        "  model.add(MaxPooling2D(pool_size=(2, 2)))\n",
        "  model.add(Flatten())\n",
        "  model.add(Dense(10, activation='softmax'))\n",
        "  model.compile(optimizer= hp.Choice('optimizer', values=['adam', 'sgd']), loss=\"sparse_categorical_crossentropy\", metrics=['accuracy'])\n",
        "  return model"
      ],
      "metadata": {
        "id": "jekfW7jXqUVW"
      },
      "execution_count": 6,
      "outputs": []
    },
    {
      "cell_type": "code",
      "source": [
        "from keras_tuner.tuners import RandomSearch\n",
        "tuner = RandomSearch(build_model, objective='val_accuracy', max_trials=3)\n",
        "tuner.search(x=x_train, y=y_train, epochs=1,batch_size=64, validation_data=(x_test, y_test) )"
      ],
      "metadata": {
        "colab": {
          "base_uri": "https://localhost:8080/"
        },
        "id": "jIXEEf68unMy",
        "outputId": "3b3be5e7-9a77-45a2-f863-f0c93a58bbfd"
      },
      "execution_count": 7,
      "outputs": [
        {
          "output_type": "stream",
          "name": "stdout",
          "text": [
            "Trial 3 Complete [00h 00m 00s]\n",
            "\n",
            "Best val_accuracy So Far: 0.09799999743700027\n",
            "Total elapsed time: 00h 00m 45s\n"
          ]
        }
      ]
    },
    {
      "cell_type": "code",
      "source": [
        "tuner.results_summary()"
      ],
      "metadata": {
        "colab": {
          "base_uri": "https://localhost:8080/"
        },
        "id": "7P4maeNbvw8F",
        "outputId": "3a57569e-8d15-45e7-b5f7-b4fbabe4e15d"
      },
      "execution_count": 8,
      "outputs": [
        {
          "output_type": "stream",
          "name": "stdout",
          "text": [
            "Results summary\n",
            "Results in ./untitled_project\n",
            "Showing 10 best trials\n",
            "Objective(name=\"val_accuracy\", direction=\"max\")\n",
            "\n",
            "Trial 1 summary\n",
            "Hyperparameters:\n",
            "Num_of_Kernel_1: 80\n",
            "dropout: False\n",
            "Num_of_conv2d: 3\n",
            "Num_of_Kernel_{i}: 130\n",
            "x_kernel_size: 3\n",
            "y_kernel_size: 3\n",
            "optimizer: sgd\n",
            "Score: 0.09799999743700027\n",
            "\n",
            "Trial 0 summary\n",
            "Hyperparameters:\n",
            "Num_of_Kernel_1: 150\n",
            "dropout: True\n",
            "Num_of_conv2d: 4\n",
            "Num_of_Kernel_{i}: 130\n",
            "x_kernel_size: 3\n",
            "y_kernel_size: 5\n",
            "optimizer: adam\n",
            "Traceback (most recent call last):\n",
            "  File \"/usr/local/lib/python3.10/dist-packages/keras_tuner/src/engine/base_tuner.py\", line 274, in _try_run_and_update_trial\n",
            "    self._run_and_update_trial(trial, *fit_args, **fit_kwargs)\n",
            "  File \"/usr/local/lib/python3.10/dist-packages/keras_tuner/src/engine/base_tuner.py\", line 239, in _run_and_update_trial\n",
            "    results = self.run_trial(trial, *fit_args, **fit_kwargs)\n",
            "  File \"/usr/local/lib/python3.10/dist-packages/keras_tuner/src/engine/tuner.py\", line 314, in run_trial\n",
            "    obj_value = self._build_and_fit_model(trial, *args, **copied_kwargs)\n",
            "  File \"/usr/local/lib/python3.10/dist-packages/keras_tuner/src/engine/tuner.py\", line 232, in _build_and_fit_model\n",
            "    model = self._try_build(hp)\n",
            "  File \"/usr/local/lib/python3.10/dist-packages/keras_tuner/src/engine/tuner.py\", line 164, in _try_build\n",
            "    model = self._build_hypermodel(hp)\n",
            "  File \"/usr/local/lib/python3.10/dist-packages/keras_tuner/src/engine/tuner.py\", line 155, in _build_hypermodel\n",
            "    model = self.hypermodel.build(hp)\n",
            "  File \"<ipython-input-6-2b7f838273cd>\", line 16, in build_model\n",
            "    model.add(MaxPooling2D(pool_size=(2, 2)))\n",
            "  File \"/usr/local/lib/python3.10/dist-packages/tensorflow/python/trackable/base.py\", line 204, in _method_wrapper\n",
            "    result = method(self, *args, **kwargs)\n",
            "  File \"/usr/local/lib/python3.10/dist-packages/keras/src/utils/traceback_utils.py\", line 70, in error_handler\n",
            "    raise e.with_traceback(filtered_tb) from None\n",
            "  File \"/usr/local/lib/python3.10/dist-packages/tensorflow/python/framework/ops.py\", line 1020, in _create_c_op\n",
            "    raise ValueError(e.message)\n",
            "ValueError: Exception encountered when calling layer \"max_pooling2d_1\" (type MaxPooling2D).\n",
            "\n",
            "Negative dimension size caused by subtracting 2 from 1 for '{{node max_pooling2d_1/MaxPool}} = MaxPool[T=DT_FLOAT, data_format=\"NHWC\", explicit_paddings=[], ksize=[1, 2, 2, 1], padding=\"VALID\", strides=[1, 2, 2, 1]](Placeholder)' with input shapes: [?,3,1,64].\n",
            "\n",
            "Call arguments received by layer \"max_pooling2d_1\" (type MaxPooling2D):\n",
            "  • inputs=tf.Tensor(shape=(None, 3, 1, 64), dtype=float32)\n",
            "\n",
            "\n",
            "Trial 2 summary\n",
            "Hyperparameters:\n",
            "Num_of_Kernel_1: 160\n",
            "dropout: False\n",
            "Num_of_conv2d: 4\n",
            "Num_of_Kernel_{i}: 30\n",
            "x_kernel_size: 5\n",
            "y_kernel_size: 5\n",
            "optimizer: sgd\n",
            "Traceback (most recent call last):\n",
            "  File \"/usr/local/lib/python3.10/dist-packages/keras_tuner/src/engine/base_tuner.py\", line 274, in _try_run_and_update_trial\n",
            "    self._run_and_update_trial(trial, *fit_args, **fit_kwargs)\n",
            "  File \"/usr/local/lib/python3.10/dist-packages/keras_tuner/src/engine/base_tuner.py\", line 239, in _run_and_update_trial\n",
            "    results = self.run_trial(trial, *fit_args, **fit_kwargs)\n",
            "  File \"/usr/local/lib/python3.10/dist-packages/keras_tuner/src/engine/tuner.py\", line 314, in run_trial\n",
            "    obj_value = self._build_and_fit_model(trial, *args, **copied_kwargs)\n",
            "  File \"/usr/local/lib/python3.10/dist-packages/keras_tuner/src/engine/tuner.py\", line 232, in _build_and_fit_model\n",
            "    model = self._try_build(hp)\n",
            "  File \"/usr/local/lib/python3.10/dist-packages/keras_tuner/src/engine/tuner.py\", line 164, in _try_build\n",
            "    model = self._build_hypermodel(hp)\n",
            "  File \"/usr/local/lib/python3.10/dist-packages/keras_tuner/src/engine/tuner.py\", line 155, in _build_hypermodel\n",
            "    model = self.hypermodel.build(hp)\n",
            "  File \"<ipython-input-6-2b7f838273cd>\", line 16, in build_model\n",
            "    model.add(MaxPooling2D(pool_size=(2, 2)))\n",
            "  File \"/usr/local/lib/python3.10/dist-packages/tensorflow/python/trackable/base.py\", line 204, in _method_wrapper\n",
            "    result = method(self, *args, **kwargs)\n",
            "  File \"/usr/local/lib/python3.10/dist-packages/keras/src/utils/traceback_utils.py\", line 70, in error_handler\n",
            "    raise e.with_traceback(filtered_tb) from None\n",
            "  File \"/usr/local/lib/python3.10/dist-packages/tensorflow/python/framework/ops.py\", line 1020, in _create_c_op\n",
            "    raise ValueError(e.message)\n",
            "ValueError: Exception encountered when calling layer \"max_pooling2d_1\" (type MaxPooling2D).\n",
            "\n",
            "Negative dimension size caused by subtracting 2 from 1 for '{{node max_pooling2d_1/MaxPool}} = MaxPool[T=DT_FLOAT, data_format=\"NHWC\", explicit_paddings=[], ksize=[1, 2, 2, 1], padding=\"VALID\", strides=[1, 2, 2, 1]](Placeholder)' with input shapes: [?,1,1,64].\n",
            "\n",
            "Call arguments received by layer \"max_pooling2d_1\" (type MaxPooling2D):\n",
            "  • inputs=tf.Tensor(shape=(None, 1, 1, 64), dtype=float32)\n",
            "\n"
          ]
        }
      ]
    },
    {
      "cell_type": "code",
      "source": [
        "from keras_tuner.tuners import GridSearch\n"
      ],
      "metadata": {
        "id": "d5RN5D0CqW46"
      },
      "execution_count": 9,
      "outputs": []
    },
    {
      "cell_type": "code",
      "source": [],
      "metadata": {
        "id": "1x2qn-5NqZJr"
      },
      "execution_count": null,
      "outputs": []
    }
  ]
}