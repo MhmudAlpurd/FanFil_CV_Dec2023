{
 "cells": [
  {
   "cell_type": "code",
   "execution_count": 1,
   "id": "57fe25c4",
   "metadata": {},
   "outputs": [],
   "source": [
    "#!pip install tensorflow"
   ]
  },
  {
   "cell_type": "code",
   "execution_count": 2,
   "id": "7fe6302b",
   "metadata": {},
   "outputs": [
    {
     "name": "stderr",
     "output_type": "stream",
     "text": [
      "2024-07-05 19:04:36.782401: I tensorflow/core/platform/cpu_feature_guard.cc:193] This TensorFlow binary is optimized with oneAPI Deep Neural Network Library (oneDNN) to use the following CPU instructions in performance-critical operations:  AVX2 FMA\n",
      "To enable them in other operations, rebuild TensorFlow with the appropriate compiler flags.\n",
      "2024-07-05 19:04:36.937031: W tensorflow/stream_executor/platform/default/dso_loader.cc:64] Could not load dynamic library 'libcudart.so.11.0'; dlerror: libcudart.so.11.0: cannot open shared object file: No such file or directory\n",
      "2024-07-05 19:04:36.937051: I tensorflow/stream_executor/cuda/cudart_stub.cc:29] Ignore above cudart dlerror if you do not have a GPU set up on your machine.\n",
      "2024-07-05 19:04:36.979935: E tensorflow/stream_executor/cuda/cuda_blas.cc:2981] Unable to register cuBLAS factory: Attempting to register factory for plugin cuBLAS when one has already been registered\n",
      "2024-07-05 19:04:37.773686: W tensorflow/stream_executor/platform/default/dso_loader.cc:64] Could not load dynamic library 'libnvinfer.so.7'; dlerror: libnvinfer.so.7: cannot open shared object file: No such file or directory\n",
      "2024-07-05 19:04:37.773822: W tensorflow/stream_executor/platform/default/dso_loader.cc:64] Could not load dynamic library 'libnvinfer_plugin.so.7'; dlerror: libnvinfer_plugin.so.7: cannot open shared object file: No such file or directory\n",
      "2024-07-05 19:04:37.773836: W tensorflow/compiler/tf2tensorrt/utils/py_utils.cc:38] TF-TRT Warning: Cannot dlopen some TensorRT libraries. If you would like to use Nvidia GPU with TensorRT, please make sure the missing libraries mentioned above are installed properly.\n"
     ]
    }
   ],
   "source": [
    "#Basic operators of tensorflow\n",
    "import tensorflow as tf"
   ]
  },
  {
   "cell_type": "code",
   "execution_count": 3,
   "id": "d80106b4",
   "metadata": {},
   "outputs": [
    {
     "name": "stdout",
     "output_type": "stream",
     "text": [
      "tf.Tensor(\n",
      "[[ 6  8]\n",
      " [10 12]], shape=(2, 2), dtype=int32)\n"
     ]
    },
    {
     "name": "stderr",
     "output_type": "stream",
     "text": [
      "2024-07-05 19:04:38.964613: W tensorflow/stream_executor/platform/default/dso_loader.cc:64] Could not load dynamic library 'libcuda.so.1'; dlerror: libcuda.so.1: cannot open shared object file: No such file or directory\n",
      "2024-07-05 19:04:38.964663: W tensorflow/stream_executor/cuda/cuda_driver.cc:263] failed call to cuInit: UNKNOWN ERROR (303)\n",
      "2024-07-05 19:04:38.964689: I tensorflow/stream_executor/cuda/cuda_diagnostics.cc:156] kernel driver does not appear to be running on this host (mhmud): /proc/driver/nvidia/version does not exist\n",
      "2024-07-05 19:04:38.965157: I tensorflow/core/platform/cpu_feature_guard.cc:193] This TensorFlow binary is optimized with oneAPI Deep Neural Network Library (oneDNN) to use the following CPU instructions in performance-critical operations:  AVX2 FMA\n",
      "To enable them in other operations, rebuild TensorFlow with the appropriate compiler flags.\n"
     ]
    }
   ],
   "source": [
    "a = tf.constant([[1, 2], [3, 4]])\n",
    "b = tf.constant([[5, 6], [7, 8]])\n",
    "\n",
    "c = tf.add(a, b)\n",
    "print(c)"
   ]
  },
  {
   "cell_type": "code",
   "execution_count": 4,
   "id": "26c6145a",
   "metadata": {},
   "outputs": [
    {
     "name": "stdout",
     "output_type": "stream",
     "text": [
      "tf.Tensor(23.0, shape=(), dtype=float32)\n"
     ]
    }
   ],
   "source": [
    "e = tf.Variable(3.0)\n",
    "f = tf.Variable(7.0)\n",
    "\n",
    "z = e*f + 2\n",
    "print(z)"
   ]
  },
  {
   "cell_type": "code",
   "execution_count": 5,
   "id": "ef8431f2",
   "metadata": {},
   "outputs": [
    {
     "name": "stdout",
     "output_type": "stream",
     "text": [
      "Epoch 1/5\n",
      "32/32 [==============================] - 0s 2ms/step - loss: 2.3641 - accuracy: 0.0990\n",
      "Epoch 2/5\n",
      "32/32 [==============================] - 0s 2ms/step - loss: 2.3010 - accuracy: 0.1140\n",
      "Epoch 3/5\n",
      "32/32 [==============================] - 0s 2ms/step - loss: 2.3001 - accuracy: 0.1090\n",
      "Epoch 4/5\n",
      "32/32 [==============================] - 0s 2ms/step - loss: 2.2984 - accuracy: 0.1130\n",
      "Epoch 5/5\n",
      "32/32 [==============================] - 0s 2ms/step - loss: 2.2996 - accuracy: 0.1130\n"
     ]
    },
    {
     "data": {
      "text/plain": [
       "<keras.callbacks.History at 0x77db0c2eb910>"
      ]
     },
     "execution_count": 5,
     "metadata": {},
     "output_type": "execute_result"
    }
   ],
   "source": [
    "\n",
    "\n",
    "from tensorflow.keras.models import Sequential\n",
    "from tensorflow.keras.layers import Dense\n",
    "\n",
    "model = Sequential([\n",
    "    Dense(32, activation='relu', input_shape=(784,)),\n",
    "    Dense(10, activation= 'softmax')\n",
    "])\n",
    "\n",
    "model.compile(optimizer='adam', loss='sparse_categorical_crossentropy', metrics=['accuracy'])\n",
    "\n",
    "import numpy as np \n",
    "x_train = np.random.random((1000, 784))\n",
    "y_train = np.random.randint(10, size=(1000,))\n",
    "\n",
    "model.fit(x_train, y_train, epochs=5)\n",
    "\n",
    "\n",
    "\n",
    "\n",
    "# Search functional implementation of NN. "
   ]
  },
  {
   "cell_type": "code",
   "execution_count": 6,
   "id": "1afe9580",
   "metadata": {},
   "outputs": [
    {
     "name": "stdout",
     "output_type": "stream",
     "text": [
      "[[-0.86266219 -0.26726124]\n",
      " [-0.53916387 -1.06904497]\n",
      " [ 1.40182605  1.33630621]]\n"
     ]
    }
   ],
   "source": [
    "#preprocess \n",
    "from sklearn.preprocessing import StandardScaler\n",
    "import numpy as np \n",
    "\n",
    "\n",
    "data = np.array([[1, 5],[2, 3], [8, 9]])\n",
    "scaler = StandardScaler()\n",
    "\n",
    "scaled_data = scaler.fit_transform(data)\n",
    "print(scaled_data)\n"
   ]
  },
  {
   "cell_type": "code",
   "execution_count": 7,
   "id": "4e411de5",
   "metadata": {
    "scrolled": false
   },
   "outputs": [
    {
     "name": "stdout",
     "output_type": "stream",
     "text": [
      "tf.Tensor(\n",
      "[[0.49653396 0.29351898 0.82263649 ... 0.55158179 0.11961364 0.73218707]\n",
      " [0.70237985 0.4871595  0.14002212 ... 0.49420549 0.68840947 0.51111757]\n",
      " [0.64387692 0.23689888 0.90444259 ... 0.3765245  0.79332901 0.88099877]\n",
      " ...\n",
      " [0.80894058 0.6625855  0.15942975 ... 0.56474191 0.44696518 0.96099753]\n",
      " [0.12927889 0.56857646 0.62046365 ... 0.63886882 0.1470063  0.63446219]\n",
      " [0.30172633 0.51778536 0.28907814 ... 0.87650143 0.89267585 0.57122085]], shape=(32, 784), dtype=float64) tf.Tensor([2 8 5 0 7 8 6 9 0 0 2 8 3 9 0 4 6 9 1 4 2 7 6 5 4 2 5 3 6 3 9 1], shape=(32,), dtype=int64)\n",
      "tf.Tensor(\n",
      "[[0.18340838 0.38966541 0.16884829 ... 0.14950396 0.66574661 0.33169119]\n",
      " [0.5554268  0.73690435 0.70456541 ... 0.70052505 0.25959369 0.50389995]\n",
      " [0.77808152 0.58935088 0.01237286 ... 0.53544133 0.03459182 0.45756708]\n",
      " ...\n",
      " [0.49557242 0.31395694 0.30144102 ... 0.78257341 0.40629786 0.85494082]\n",
      " [0.95191423 0.87618118 0.30978587 ... 0.59642753 0.38401169 0.58565896]\n",
      " [0.8099763  0.28794124 0.36951399 ... 0.38770876 0.89102215 0.10794174]], shape=(32, 784), dtype=float64) tf.Tensor([6 6 7 0 7 6 8 0 3 9 8 7 5 8 3 5 4 8 3 8 4 5 8 8 3 9 3 7 9 5 9 6], shape=(32,), dtype=int64)\n"
     ]
    }
   ],
   "source": [
    "dataset = tf.data.Dataset.from_tensor_slices((x_train, y_train))\n",
    "dataset = dataset.shuffle(buffer_size=1024).batch(32)\n",
    "for batch_x, batch_y in dataset.take(2):\n",
    "    print(batch_x, batch_y)"
   ]
  },
  {
   "cell_type": "code",
   "execution_count": 8,
   "id": "111252f8",
   "metadata": {},
   "outputs": [
    {
     "name": "stdout",
     "output_type": "stream",
     "text": [
      "Epoch 1/5\n",
      "32/32 [==============================] - 1s 10ms/step - loss: 2.3491 - accuracy: 0.1050\n",
      "Epoch 2/5\n",
      "32/32 [==============================] - 0s 11ms/step - loss: 2.2999 - accuracy: 0.1100\n",
      "Epoch 3/5\n",
      "32/32 [==============================] - 0s 10ms/step - loss: 2.2916 - accuracy: 0.1330\n",
      "Epoch 4/5\n",
      "32/32 [==============================] - 0s 10ms/step - loss: 2.2881 - accuracy: 0.1240\n",
      "Epoch 5/5\n",
      "32/32 [==============================] - 0s 11ms/step - loss: 2.2661 - accuracy: 0.1800\n"
     ]
    },
    {
     "data": {
      "text/plain": [
       "<keras.callbacks.History at 0x77dae5d1ee90>"
      ]
     },
     "execution_count": 8,
     "metadata": {},
     "output_type": "execute_result"
    }
   ],
   "source": [
    "#cnn\n",
    "from tensorflow.keras.models import Sequential\n",
    "from tensorflow.keras.layers import Conv2D, MaxPooling2D, Flatten, Dense\n",
    "\n",
    "model = Sequential([\n",
    "    Conv2D(32, (3, 3), activation='relu', input_shape=(28, 28, 1)), \n",
    "    MaxPooling2D(pool_size=(2, 2)), \n",
    "    Flatten(), \n",
    "    Dense(64, activation='relu'), \n",
    "    Dense(10, activation= 'softmax')   \n",
    "])\n",
    "\n",
    "model.compile(optimizer='adam', loss='sparse_categorical_crossentropy', metrics=['accuracy'])\n",
    "#sparse_categorical_crossentropy vs categorical cross entropy?\n",
    "\n",
    "x_train = np.random.random((1000, 28, 28, 1))\n",
    "y_train = np.random.randint(10, size=(1000,))\n",
    "\n",
    "\n",
    "model.fit(x_train, y_train, epochs=5)\n",
    "\n",
    "\n",
    "#label = 0, 1, 2, 3, 4, 5, 6, 7, 8, 9\n",
    "#one_hot [4] : [0, 0, 0, 0, 1, 0, 0, 0, 0, 0]\n",
    "#one_hot [5] : [0, 0, 0, 0, 0, 1, 0, 0, 0, 0]\n",
    "\n",
    "#sparse categorical cross entropy == one hot encoding + categorical ce.\n"
   ]
  },
  {
   "cell_type": "code",
   "execution_count": 9,
   "id": "bab92dda",
   "metadata": {},
   "outputs": [
    {
     "name": "stdout",
     "output_type": "stream",
     "text": [
      "Epoch 1/5\n",
      "32/32 [==============================] - 1s 3ms/step - loss: 0.1326\n",
      "Epoch 2/5\n",
      "32/32 [==============================] - 0s 3ms/step - loss: 0.0874\n",
      "Epoch 3/5\n",
      "32/32 [==============================] - 0s 3ms/step - loss: 0.0850\n",
      "Epoch 4/5\n",
      "32/32 [==============================] - 0s 3ms/step - loss: 0.0847\n",
      "Epoch 5/5\n",
      "32/32 [==============================] - 0s 3ms/step - loss: 0.0851\n"
     ]
    },
    {
     "data": {
      "text/plain": [
       "<keras.callbacks.History at 0x77dae77ed5d0>"
      ]
     },
     "execution_count": 9,
     "metadata": {},
     "output_type": "execute_result"
    }
   ],
   "source": [
    "#rnn\n",
    "from tensorflow.keras.models import Sequential\n",
    "from tensorflow.keras.layers import SimpleRNN, Dense\n",
    "\n",
    "#this is a world for blind people, and  we have to find the light. \n",
    "#positive (0), #negative(1)\n",
    "\n",
    "model = Sequential([\n",
    "    SimpleRNN(50, activation='relu', input_shape=(10, 1)),\n",
    "    Dense(1)\n",
    "])\n",
    "\n",
    "model.compile(optimizer='adam', loss='mse')\n",
    "\n",
    "\n",
    "x_train = np.random.random((1000, 10, 1)) \n",
    "y_train = np.random.random((1000, 1))\n",
    "\n",
    "model.fit(x_train, y_train, epochs=5)"
   ]
  },
  {
   "cell_type": "code",
   "execution_count": 10,
   "id": "9999f5a2",
   "metadata": {},
   "outputs": [
    {
     "data": {
      "text/plain": [
       "'base_model = VGG16(weights=\"imagenet\", include_top = False, input_shape = (224, 224, 3))\\nbase_model.trainable = False\\nmodel = Sequential([\\n    \\n    base_model,\\n    Flatten(), \\n    Dense(256, activation=\\'relu\\'),\\n    Dense(10, activation=\\'softmax\\')\\n])\\n\\nmodel.compile(optimizer=\\'adam\\', loss=\\'sparse_categorical_cross_entropy\\')\\n\\n\\nx_train = np.random.random((1000, 224, 224, 3)) \\ny_train = np.random.randint(10, size=(1000, ))\\n\\nmodel.fit(x_train, y_train, epochs=5)'"
      ]
     },
     "execution_count": 10,
     "metadata": {},
     "output_type": "execute_result"
    }
   ],
   "source": [
    "#transfer learning\n",
    "#tensorflow.keras vs keras!\n",
    "\n",
    "from tensorflow.keras.applications import VGG16\n",
    "from tensorflow.keras.models import Sequential\n",
    "from tensorflow.keras.layers import Dense, Flatten\n",
    "\n",
    "'''base_model = VGG16(weights=\"imagenet\", include_top = False, input_shape = (224, 224, 3))\n",
    "base_model.trainable = False\n",
    "model = Sequential([\n",
    "    \n",
    "    base_model,\n",
    "    Flatten(), \n",
    "    Dense(256, activation='relu'),\n",
    "    Dense(10, activation='softmax')\n",
    "])\n",
    "\n",
    "model.compile(optimizer='adam', loss='sparse_categorical_cross_entropy')\n",
    "\n",
    "\n",
    "x_train = np.random.random((1000, 224, 224, 3)) \n",
    "y_train = np.random.randint(10, size=(1000, ))\n",
    "\n",
    "model.fit(x_train, y_train, epochs=5)'''\n"
   ]
  },
  {
   "cell_type": "code",
   "execution_count": 17,
   "id": "04527738",
   "metadata": {},
   "outputs": [
    {
     "name": "stdout",
     "output_type": "stream",
     "text": [
      "Epoch 1, Loss: 2.6017119884490967\n",
      "Epoch 2, Loss: 2.367424249649048\n",
      "Epoch 3, Loss: 2.413817882537842\n",
      "Epoch 4, Loss: 2.4151248931884766\n",
      "Epoch 5, Loss: 2.3767426013946533\n"
     ]
    }
   ],
   "source": [
    "#custom model!\n",
    "\n",
    "import tensorflow as tf\n",
    "\n",
    "class CustomModel(tf.keras.Model):\n",
    "    def __init__(self):\n",
    "        super(CustomModel, self).__init__()\n",
    "        self.dense1 = tf.keras.layers.Dense(64, activation='relu')\n",
    "        self.dense2 = tf.keras.layers.Dense(10)\n",
    "    \n",
    "    \n",
    "    def call(self, inputs):\n",
    "        x = self.dense1(inputs)\n",
    "        return self.dense2(x)\n",
    "\n",
    "    \n",
    "model = CustomModel()\n",
    "x_train = np.random.random((1000, 784)) \n",
    "y_train = np.random.randint(10, size=(1000, ))\n",
    "\n",
    "\n",
    "optimizer = tf.keras.optimizers.Adam()\n",
    "loss_fn = tf.keras.losses.SparseCategoricalCrossentropy(from_logits=True)\n",
    "\n",
    "for epoch in range(5):\n",
    "    with tf.GradientTape() as tape:\n",
    "        predictions = model(x_train)\n",
    "        loss = loss_fn(y_train, predictions)\n",
    "    gradients = tape.gradient(loss,model.trainable_variables)\n",
    "    optimizer.apply_gradients(zip(gradients, model.trainable_variables))\n",
    "    print(f\"Epoch {epoch + 1}, Loss: {loss.numpy()}\")"
   ]
  },
  {
   "cell_type": "code",
   "execution_count": 24,
   "id": "8af68a51",
   "metadata": {},
   "outputs": [],
   "source": [
    "#evaluation\n",
    "#model.compile(optimizer = optimizer, loss=loss_fn)\n",
    "#loss, accuracy = model.evaluate(x_train, y_train)\n",
    "#print(f\" Loss: {loss}, Accuracy: {accuracy}\")"
   ]
  },
  {
   "cell_type": "code",
   "execution_count": 26,
   "id": "05dec3cf",
   "metadata": {},
   "outputs": [],
   "source": [
    "import tensorflow as tf\n",
    "import numpy as np \n",
    "x_train = np.random.random((60000, 784)).astype(np.float32)\n",
    "y_train = np.random.randint(10, size=(60000,)).astype(np.int64)\n",
    "\n",
    "\n",
    "dataset = tf.data.Dataset.from_tensor_slices((x_train, y_train))"
   ]
  },
  {
   "cell_type": "code",
   "execution_count": 27,
   "id": "10186852",
   "metadata": {},
   "outputs": [],
   "source": [
    "batch_size = 64\n",
    "dataset = dataset.shuffle(buffer_size=1024).batch(batch_size=batch_size)\\\n",
    ".prefetch(buffer_size=tf.data.experimental.AUTOTUNE)"
   ]
  },
  {
   "cell_type": "code",
   "execution_count": null,
   "id": "e22d2f41",
   "metadata": {},
   "outputs": [],
   "source": []
  },
  {
   "cell_type": "code",
   "execution_count": null,
   "id": "ee04b822",
   "metadata": {},
   "outputs": [],
   "source": []
  },
  {
   "cell_type": "code",
   "execution_count": null,
   "id": "5dc8233a",
   "metadata": {},
   "outputs": [],
   "source": []
  },
  {
   "cell_type": "code",
   "execution_count": 28,
   "id": "1b17ff92",
   "metadata": {},
   "outputs": [
    {
     "name": "stdout",
     "output_type": "stream",
     "text": [
      "Defaulting to user installation because normal site-packages is not writeable\n",
      "\u001b[31mERROR: Could not install packages due to an OSError: Missing dependencies for SOCKS support.\n",
      "\u001b[0m\u001b[31m\n",
      "\u001b[0m"
     ]
    }
   ],
   "source": [
    "!pip install keras_tuner --upgrade"
   ]
  },
  {
   "cell_type": "code",
   "execution_count": null,
   "id": "7108aaf4",
   "metadata": {},
   "outputs": [],
   "source": [
    "import keras\n",
    "from keras.datasets import mnist\n",
    "import matplotlib.pyplot as plt\n",
    "from keras.layers import Conv2D, MaxPooling2D, Dense, Flatten, Dropout"
   ]
  },
  {
   "cell_type": "code",
   "execution_count": null,
   "id": "b6935dcc",
   "metadata": {},
   "outputs": [],
   "source": [
    "(x_train, y_train), (x_test, y_test) = mnist.load_data()"
   ]
  },
  {
   "cell_type": "code",
   "execution_count": null,
   "id": "04888d08",
   "metadata": {},
   "outputs": [],
   "source": [
    "plt.imshow(x_train[0], cmap='gray')\n",
    "plt.show()"
   ]
  },
  {
   "cell_type": "code",
   "execution_count": null,
   "id": "152905d6",
   "metadata": {},
   "outputs": [],
   "source": [
    "x_train = x_train.reshape(-1, 28, 28, 1)\n",
    "x_test = x_test.reshape(-1, 28, 28, 1)"
   ]
  },
  {
   "cell_type": "code",
   "execution_count": null,
   "id": "5a806984",
   "metadata": {},
   "outputs": [],
   "source": [
    "model = keras.models.Sequential()\n",
    "\n",
    "model.add(Conv2D(32, (3, 3), input_shape=(28, 28, 1), activation='relu'))\n",
    "model.add(MaxPooling2D(pool_size=(2, 2)))\n",
    "model.add(Conv2D(64, (3, 3), activation='relu'))\n",
    "model.add(MaxPooling2D(pool_size=(2, 2)))\n",
    "model.add(Flatten())\n",
    "model.add(Dense(10, activation='softmax'))\n",
    "model.compile(optimizer='adam', loss=\"sparse_categorical_crossentropy\", metrics=['accuracy'])\n",
    "\n"
   ]
  },
  {
   "cell_type": "code",
   "execution_count": null,
   "id": "7b489d14",
   "metadata": {},
   "outputs": [],
   "source": [
    "model.fit(x_train, y_train, batch_size = 64, epochs = 1, validation_data=(x_test, y_test), verbose=1)"
   ]
  },
  {
   "cell_type": "code",
   "execution_count": null,
   "id": "c55284f8",
   "metadata": {},
   "outputs": [],
   "source": []
  },
  {
   "cell_type": "code",
   "execution_count": null,
   "id": "bc209347",
   "metadata": {},
   "outputs": [],
   "source": [
    "model = build_model()\n",
    "model.fit(x_train, y_train, batch_size=32, epochs=1, validation_data=(x_test, y_test), verbose=1)"
   ]
  }
 ],
 "metadata": {
  "kernelspec": {
   "display_name": "Python 3 (ipykernel)",
   "language": "python",
   "name": "python3"
  },
  "language_info": {
   "codemirror_mode": {
    "name": "ipython",
    "version": 3
   },
   "file_extension": ".py",
   "mimetype": "text/x-python",
   "name": "python",
   "nbconvert_exporter": "python",
   "pygments_lexer": "ipython3",
   "version": "3.10.12"
  }
 },
 "nbformat": 4,
 "nbformat_minor": 5
}
