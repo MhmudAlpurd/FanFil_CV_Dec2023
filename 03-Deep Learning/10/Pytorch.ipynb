{
 "cells": [
  {
   "cell_type": "code",
   "execution_count": 1,
   "id": "088fd5b9",
   "metadata": {},
   "outputs": [],
   "source": [
    "import torch"
   ]
  },
  {
   "cell_type": "code",
   "execution_count": 3,
   "id": "6bd09a0a",
   "metadata": {},
   "outputs": [
    {
     "data": {
      "text/plain": [
       "tensor([1, 2, 3])"
      ]
     },
     "execution_count": 3,
     "metadata": {},
     "output_type": "execute_result"
    }
   ],
   "source": [
    "tensor_from_list = torch.tensor([1, 2, 3])\n",
    "tensor_from_list"
   ]
  },
  {
   "cell_type": "code",
   "execution_count": 4,
   "id": "dcb4865b",
   "metadata": {},
   "outputs": [
    {
     "data": {
      "text/plain": [
       "tensor([[0., 0., 0.],\n",
       "        [0., 0., 0.],\n",
       "        [0., 0., 0.]])"
      ]
     },
     "execution_count": 4,
     "metadata": {},
     "output_type": "execute_result"
    }
   ],
   "source": [
    "tensor_zeros = torch.zeros((3, 3))\n",
    "tensor_zeros"
   ]
  },
  {
   "cell_type": "code",
   "execution_count": 5,
   "id": "b6d03501",
   "metadata": {},
   "outputs": [
    {
     "data": {
      "text/plain": [
       "tensor([[1., 1., 1.],\n",
       "        [1., 1., 1.],\n",
       "        [1., 1., 1.]])"
      ]
     },
     "execution_count": 5,
     "metadata": {},
     "output_type": "execute_result"
    }
   ],
   "source": [
    "tensor_ones = torch.ones((3,  3))\n",
    "tensor_ones"
   ]
  },
  {
   "cell_type": "code",
   "execution_count": 7,
   "id": "945ec267",
   "metadata": {},
   "outputs": [
    {
     "data": {
      "text/plain": [
       "tensor([[0.9510, 0.0576, 0.5482],\n",
       "        [0.7920, 0.5869, 0.4054],\n",
       "        [0.8461, 0.7079, 0.2273]])"
      ]
     },
     "execution_count": 7,
     "metadata": {},
     "output_type": "execute_result"
    }
   ],
   "source": [
    "tensor_rand = torch.rand((3, 3))\n",
    "tensor_rand"
   ]
  },
  {
   "cell_type": "code",
   "execution_count": 9,
   "id": "47e4a0f2",
   "metadata": {},
   "outputs": [
    {
     "data": {
      "text/plain": [
       "tensor([[0.1017, 0.3190, 0.8920],\n",
       "        [0.1326, 0.9551, 0.7525],\n",
       "        [0.6910, 0.5701, 0.8592]])"
      ]
     },
     "execution_count": 9,
     "metadata": {},
     "output_type": "execute_result"
    }
   ],
   "source": [
    "tensor_float = torch.rand((3, 3),dtype=torch.float32)\n",
    "tensor_float"
   ]
  },
  {
   "cell_type": "code",
   "execution_count": 10,
   "id": "960cd392",
   "metadata": {},
   "outputs": [
    {
     "name": "stdout",
     "output_type": "stream",
     "text": [
      "tensor([5, 7, 9])\n",
      "tensor([-3, -3, -3])\n",
      "tensor([ 4, 10, 18])\n",
      "tensor([0.2500, 0.4000, 0.5000])\n"
     ]
    }
   ],
   "source": [
    "a = torch.tensor([1, 2, 3])\n",
    "b = torch.tensor([4, 5, 6])\n",
    "\n",
    "sum_a_b = a + b\n",
    "print(sum_a_b)\n",
    "\n",
    "sub_a_b = a - b\n",
    "print(sub_a_b)\n",
    "\n",
    "mul_a_b = a * b\n",
    "print(mul_a_b)\n",
    "\n",
    "div_a_b = a / b\n",
    "print(div_a_b)"
   ]
  },
  {
   "cell_type": "code",
   "execution_count": 14,
   "id": "eef42a1f",
   "metadata": {},
   "outputs": [
    {
     "name": "stdout",
     "output_type": "stream",
     "text": [
      "tensor([[0.3524, 0.2649, 0.3183],\n",
      "        [0.7021, 0.4613, 0.9264]])\n",
      "tensor([[0.3524, 0.7021],\n",
      "        [0.2649, 0.4613],\n",
      "        [0.3183, 0.9264]])\n"
     ]
    }
   ],
   "source": [
    "#transpose\n",
    "tensor_1 = torch.rand((2, 3))\n",
    "print(tensor_1)\n",
    "tensor_1_transpose = tensor_1.t()\n",
    "print(tensor_1_transpose)"
   ]
  },
  {
   "cell_type": "code",
   "execution_count": 16,
   "id": "31e25fa1",
   "metadata": {},
   "outputs": [
    {
     "name": "stdout",
     "output_type": "stream",
     "text": [
      "tensor([[1, 2],\n",
      "        [3, 4],\n",
      "        [5, 6],\n",
      "        [7, 8]])\n",
      "tensor([[1, 2, 5, 6],\n",
      "        [3, 4, 7, 8]])\n"
     ]
    }
   ],
   "source": [
    "#concatenation\n",
    "tensor_a = torch.tensor(([1, 2], [3, 4]))\n",
    "tensor_b = torch.tensor(([5, 6], [7, 8]))\n",
    "\n",
    "\n",
    "tensor_a_b_rows = torch.cat((tensor_a, tensor_b), dim=0) # rows\n",
    "tensor_a_b_cols = torch.cat((tensor_a, tensor_b), dim=1) # columns\n",
    "\n",
    "print(tensor_a_b_rows)\n",
    "print(tensor_a_b_cols)"
   ]
  },
  {
   "cell_type": "code",
   "execution_count": 18,
   "id": "dae3675b",
   "metadata": {},
   "outputs": [
    {
     "name": "stdout",
     "output_type": "stream",
     "text": [
      "tensor([[ 6,  8],\n",
      "        [10, 12]])\n"
     ]
    }
   ],
   "source": [
    "if torch.cuda.is_available():\n",
    "    device = torch.device('cuda')\n",
    "else:\n",
    "    device = torch.device('cpu')\n",
    "    \n",
    "tensor_a_gpu = tensor_a.to(device)\n",
    "tensor_b_gpu = tensor_b.to(device)\n",
    "\n",
    "result_on_gpu = tensor_a_gpu + tensor_b_gpu\n",
    "result_on_cpu = result_on_gpu.to('cpu')\n",
    "print(result_on_cpu)"
   ]
  },
  {
   "cell_type": "code",
   "execution_count": 20,
   "id": "b5875493",
   "metadata": {},
   "outputs": [
    {
     "name": "stdout",
     "output_type": "stream",
     "text": [
      "4.0\n"
     ]
    }
   ],
   "source": [
    "import torch\n",
    "#y = x^2\n",
    "\n",
    "x = torch.tensor([2.0], requires_grad=True)\n",
    "y = x ** 2\n",
    "\n",
    "#dy/dx\n",
    "y.backward()\n",
    "print(x.grad.item())"
   ]
  },
  {
   "cell_type": "code",
   "execution_count": 23,
   "id": "d3210045",
   "metadata": {},
   "outputs": [
    {
     "name": "stdout",
     "output_type": "stream",
     "text": [
      "4.0\n",
      "6.0\n"
     ]
    }
   ],
   "source": [
    "# z = x^2 + y^2\n",
    "\n",
    "x = torch.tensor([2.0], requires_grad=True)\n",
    "y = torch.tensor([3.0], requires_grad=True)\n",
    "\n",
    "z = x**2 + y**2\n",
    "\n",
    "#dz/dx , dz/dy\n",
    "z.backward()\n",
    "\n",
    "print(x.grad.item())\n",
    "print(y.grad.item())\n",
    "\n"
   ]
  },
  {
   "cell_type": "code",
   "execution_count": 24,
   "id": "8cdbc88b",
   "metadata": {},
   "outputs": [
    {
     "name": "stdout",
     "output_type": "stream",
     "text": [
      "first_derivative:  12.0\n",
      "second_derivative:  12.0\n"
     ]
    },
    {
     "name": "stderr",
     "output_type": "stream",
     "text": [
      "/home/mhmud/.local/lib/python3.10/site-packages/torch/autograd/__init__.py:173: UserWarning: Using backward() with create_graph=True will create a reference cycle between the parameter and its gradient which can cause a memory leak. We recommend using autograd.grad when creating the graph to avoid this. If you have to use this function, make sure to reset the .grad fields of your parameters to None after use to break the cycle and avoid the leak. (Triggered internally at  ../torch/csrc/autograd/engine.cpp:985.)\n",
      "  Variable._execution_engine.run_backward(  # Calls into the C++ engine to run the backward pass\n"
     ]
    }
   ],
   "source": [
    "x = torch.tensor([2.0], requires_grad=True)\n",
    "\n",
    "y = x**3\n",
    "\n",
    "\n",
    "y.backward(create_graph=True)\n",
    "print('first_derivative: ', x.grad.item())\n",
    "\n",
    "x.grad.zero_()\n",
    "\n",
    "y.backward(retain_graph=True)\n",
    "print('second_derivative: ', x.grad.item())\n"
   ]
  },
  {
   "cell_type": "code",
   "execution_count": 3,
   "id": "c5c7f7ed",
   "metadata": {},
   "outputs": [],
   "source": [
    "# Import the necessary libraries\n",
    "import torch\n",
    "import torch.nn as nn\n",
    "import torch.nn.functional as F\n",
    "import torch.optim as optim\n",
    "from torchvision import datasets, transforms\n",
    "import matplotlib.pyplot as plt\n",
    "import numpy as np"
   ]
  },
  {
   "cell_type": "code",
   "execution_count": 4,
   "id": "d875f6c8",
   "metadata": {},
   "outputs": [
    {
     "name": "stdout",
     "output_type": "stream",
     "text": [
      "SimpleNN(\n",
      "  (fc1): Linear(in_features=3, out_features=5, bias=True)\n",
      "  (relu): ReLU()\n",
      "  (fc2): Linear(in_features=5, out_features=1, bias=True)\n",
      ")\n"
     ]
    }
   ],
   "source": [
    "# Define a simple neural network\n",
    "class SimpleNN(nn.Module):\n",
    "    def __init__(self):\n",
    "        super(SimpleNN, self).__init__()\n",
    "        self.fc1 = nn.Linear(3, 5)  # Input layer to hidden layer\n",
    "        self.relu = nn.ReLU()       # Activation function\n",
    "        self.fc2 = nn.Linear(5, 1)  # Hidden layer to output layer\n",
    "\n",
    "    def forward(self, x):\n",
    "        x = self.fc1(x)\n",
    "        x = self.relu(x)\n",
    "        x = self.fc2(x)\n",
    "        return x\n",
    "\n",
    "# Create an instance of the network\n",
    "model = SimpleNN()\n",
    "\n",
    "# Print the model architecture\n",
    "print(model)\n"
   ]
  },
  {
   "cell_type": "code",
   "execution_count": 5,
   "id": "14a679b8",
   "metadata": {},
   "outputs": [
    {
     "name": "stdout",
     "output_type": "stream",
     "text": [
      "tensor([[-0.1442]], grad_fn=<AddmmBackward0>)\n"
     ]
    }
   ],
   "source": [
    "# Sample input data\n",
    "input_data = torch.tensor([[1.0, 2.0, 3.0]])\n",
    "\n",
    "# Perform a forward pass\n",
    "output = model(input_data)\n",
    "print(output)\n"
   ]
  },
  {
   "cell_type": "code",
   "execution_count": 6,
   "id": "cd8a2e6f",
   "metadata": {},
   "outputs": [
    {
     "name": "stdout",
     "output_type": "stream",
     "text": [
      "Epoch [10/100], Loss: 70.6954\n",
      "Epoch [20/100], Loss: 47.1968\n",
      "Epoch [30/100], Loss: 31.5090\n",
      "Epoch [40/100], Loss: 21.0357\n",
      "Epoch [50/100], Loss: 14.0436\n",
      "Epoch [60/100], Loss: 9.3756\n",
      "Epoch [70/100], Loss: 6.2592\n",
      "Epoch [80/100], Loss: 4.1787\n",
      "Epoch [90/100], Loss: 2.7897\n",
      "Epoch [100/100], Loss: 1.8625\n"
     ]
    }
   ],
   "source": [
    "# Define the loss function and optimizer\n",
    "criterion = nn.MSELoss()\n",
    "optimizer = optim.SGD(model.parameters(), lr=0.01)\n",
    "\n",
    "# Sample target data\n",
    "target = torch.tensor([[10.0]])\n",
    "\n",
    "# Training loop\n",
    "for epoch in range(100):\n",
    "    # Zero the gradients\n",
    "    optimizer.zero_grad()\n",
    "\n",
    "    # Forward pass\n",
    "    output = model(input_data)\n",
    "\n",
    "    # Compute the loss\n",
    "    loss = criterion(output, target)\n",
    "\n",
    "    # Backward pass and optimize\n",
    "    loss.backward()\n",
    "    optimizer.step()\n",
    "\n",
    "    if (epoch+1) % 10 == 0:\n",
    "        print(f'Epoch [{epoch+1}/100], Loss: {loss.item():.4f}')\n"
   ]
  },
  {
   "cell_type": "code",
   "execution_count": null,
   "id": "6ef86762",
   "metadata": {},
   "outputs": [],
   "source": [
    "# Define a more complex neural network\n",
    "class ComplexNN(nn.Module):\n",
    "    def __init__(self):\n",
    "        super(ComplexNN, self).__init__()\n",
    "        self.conv1 = nn.Conv2d(1, 32, 3, 1) #(input kernels, ouput kernels, kernel_size, padding)\n",
    "        self.conv2 = nn.Conv2d(32, 64, 3, 1)\n",
    "        self.fc1 = nn.Linear(9216, 128)\n",
    "        self.fc2 = nn.Linear(128, 10)\n",
    "\n",
    "    def forward(self, x):\n",
    "        x = self.conv1(x)\n",
    "        x = nn.ReLU()(x)\n",
    "        x = self.conv2(x)\n",
    "        x = nn.ReLU()(x)\n",
    "        x = nn.MaxPool2d(2)(x)\n",
    "        x = torch.flatten(x, 1)\n",
    "        x = self.fc1(x)\n",
    "        x = nn.ReLU()(x)\n",
    "        x = self.fc2(x)\n",
    "        return nn.LogSoftmax(dim=1)(x)\n",
    "\n",
    "# Create an instance of the network\n",
    "model = ComplexNN()\n",
    "\n",
    "# Print the model architecture\n",
    "print(model)\n"
   ]
  },
  {
   "cell_type": "code",
   "execution_count": 7,
   "id": "9adc03a1",
   "metadata": {},
   "outputs": [],
   "source": [
    "#example 1\n",
    "\n",
    "# Import the necessary libraries\n",
    "import torch\n",
    "import torch.nn as nn\n",
    "import torch.nn.functional as F\n",
    "import torch.optim as optim\n",
    "from torchvision import datasets, transforms\n",
    "import matplotlib.pyplot as plt\n",
    "import numpy as np"
   ]
  },
  {
   "cell_type": "code",
   "execution_count": 8,
   "id": "7784b204",
   "metadata": {},
   "outputs": [],
   "source": [
    "# Define the hyperparameters\n",
    "batch_size = 64 # The number of samples per batch\n",
    "num_epochs = 10 # The number of times to iterate over the whole dataset\n",
    "learning_rate = 0.01 # The learning rate for the optimizer\n",
    "\n",
    "# Define the transformation to apply to the images\n",
    "transform = transforms.Compose([\n",
    "\ttransforms.ToTensor(), # Convert the images to tensors\n",
    "\ttransforms.Normalize((0.1307,), (0.3081,)) # Normalize the pixel values with mean and std\n",
    "])\n"
   ]
  },
  {
   "cell_type": "code",
   "execution_count": 9,
   "id": "4f405659",
   "metadata": {
    "scrolled": true
   },
   "outputs": [
    {
     "name": "stdout",
     "output_type": "stream",
     "text": [
      "Downloading http://yann.lecun.com/exdb/mnist/train-images-idx3-ubyte.gz\n",
      "Failed to download (trying next):\n",
      "HTTP Error 403: Forbidden\n",
      "\n",
      "Downloading https://ossci-datasets.s3.amazonaws.com/mnist/train-images-idx3-ubyte.gz\n",
      "Downloading https://ossci-datasets.s3.amazonaws.com/mnist/train-images-idx3-ubyte.gz to ./MNIST/raw/train-images-idx3-ubyte.gz\n"
     ]
    },
    {
     "name": "stderr",
     "output_type": "stream",
     "text": [
      "9913344it [00:39, 248537.21it/s]                                 \n"
     ]
    },
    {
     "name": "stdout",
     "output_type": "stream",
     "text": [
      "Extracting ./MNIST/raw/train-images-idx3-ubyte.gz to ./MNIST/raw\n",
      "\n",
      "Downloading http://yann.lecun.com/exdb/mnist/train-labels-idx1-ubyte.gz\n",
      "Failed to download (trying next):\n",
      "HTTP Error 403: Forbidden\n",
      "\n",
      "Downloading https://ossci-datasets.s3.amazonaws.com/mnist/train-labels-idx1-ubyte.gz\n",
      "Downloading https://ossci-datasets.s3.amazonaws.com/mnist/train-labels-idx1-ubyte.gz to ./MNIST/raw/train-labels-idx1-ubyte.gz\n"
     ]
    },
    {
     "name": "stderr",
     "output_type": "stream",
     "text": [
      "29696it [00:00, 139026.42it/s]                                   \n"
     ]
    },
    {
     "name": "stdout",
     "output_type": "stream",
     "text": [
      "Extracting ./MNIST/raw/train-labels-idx1-ubyte.gz to ./MNIST/raw\n",
      "\n",
      "Downloading http://yann.lecun.com/exdb/mnist/t10k-images-idx3-ubyte.gz\n",
      "Failed to download (trying next):\n",
      "HTTP Error 403: Forbidden\n",
      "\n",
      "Downloading https://ossci-datasets.s3.amazonaws.com/mnist/t10k-images-idx3-ubyte.gz\n",
      "Downloading https://ossci-datasets.s3.amazonaws.com/mnist/t10k-images-idx3-ubyte.gz to ./MNIST/raw/t10k-images-idx3-ubyte.gz\n"
     ]
    },
    {
     "name": "stderr",
     "output_type": "stream",
     "text": [
      "1649664it [00:05, 276183.63it/s]                                 \n"
     ]
    },
    {
     "name": "stdout",
     "output_type": "stream",
     "text": [
      "Extracting ./MNIST/raw/t10k-images-idx3-ubyte.gz to ./MNIST/raw\n",
      "\n",
      "Downloading http://yann.lecun.com/exdb/mnist/t10k-labels-idx1-ubyte.gz\n",
      "Failed to download (trying next):\n",
      "HTTP Error 403: Forbidden\n",
      "\n",
      "Downloading https://ossci-datasets.s3.amazonaws.com/mnist/t10k-labels-idx1-ubyte.gz\n",
      "Downloading https://ossci-datasets.s3.amazonaws.com/mnist/t10k-labels-idx1-ubyte.gz to ./MNIST/raw/t10k-labels-idx1-ubyte.gz\n"
     ]
    },
    {
     "name": "stderr",
     "output_type": "stream",
     "text": [
      "5120it [00:00, 11970365.93it/s]                                  "
     ]
    },
    {
     "name": "stdout",
     "output_type": "stream",
     "text": [
      "Extracting ./MNIST/raw/t10k-labels-idx1-ubyte.gz to ./MNIST/raw\n",
      "\n"
     ]
    },
    {
     "name": "stderr",
     "output_type": "stream",
     "text": [
      "\n"
     ]
    }
   ],
   "source": [
    "# Load the MNIST dataset from the web\n",
    "train_dataset = datasets.MNIST(root='.', train=True, download=True, transform=transform) # The training set\n",
    "test_dataset = datasets.MNIST(root='.', train=False, download=True, transform=transform) # The test set\n",
    "\n",
    "# Create the data loaders for batching and shuffling the data\n",
    "train_loader = torch.utils.data.DataLoader(train_dataset, batch_size=batch_size, shuffle=True) # The training loader\n",
    "test_loader = torch.utils.data.DataLoader(test_dataset, batch_size=batch_size, shuffle=False) # The test loader\n"
   ]
  },
  {
   "cell_type": "code",
   "execution_count": 10,
   "id": "6e41f3f5",
   "metadata": {},
   "outputs": [],
   "source": [
    "# Define the neural network model\n",
    "class Net(nn.Module):\n",
    "\tdef __init__(self):\n",
    "\t\tsuper(Net, self).__init__()\n",
    "\t\t# The network has two fully connected layers\n",
    "\t\tself.fc1 = nn.Linear(28*28, 512) # The first layer takes the flattened image as input and outputs 512 features\n",
    "\t\tself.fc2 = nn.Linear(512, 10) # The second layer takes the 512 features as input and outputs 10 classes\n",
    "\n",
    "\tdef forward(self, x):\n",
    "\t\t# The forward pass of the network\n",
    "\t\tx = x.view(-1, 28*28) # Flatten the image into a vector\n",
    "\t\tx = F.relu(self.fc1(x)) # Apply the ReLU activation function to the first layer\n",
    "\t\tx = self.fc2(x) # Apply the second layer\n",
    "\t\treturn x # Return the output logits\n"
   ]
  },
  {
   "cell_type": "code",
   "execution_count": 11,
   "id": "4942d867",
   "metadata": {},
   "outputs": [
    {
     "name": "stdout",
     "output_type": "stream",
     "text": [
      "Net(\n",
      "  (fc1): Linear(in_features=784, out_features=512, bias=True)\n",
      "  (fc2): Linear(in_features=512, out_features=10, bias=True)\n",
      ")\n"
     ]
    }
   ],
   "source": [
    "# Create an instance of the model and move it to the device (CPU or GPU)\n",
    "device = torch.device(\"cuda\" if torch.cuda.is_available() else \"cpu\") # Get the device\n",
    "model = Net().to(device) # Move the model to the device\n",
    "print(model) # Print the model summary\n",
    "\n",
    "# Define the loss function and the optimizer\n",
    "criterion = nn.CrossEntropyLoss() # The cross entropy loss for multi-class classification\n",
    "optimizer = optim.SGD(model.parameters(), lr=learning_rate) # The stochastic gradient descent optimizer\n",
    "\n",
    "# Define a function to calculate the accuracy of the model\n",
    "def accuracy(outputs, labels):\n",
    "\t# The accuracy is the percentage of correct predictions\n",
    "\t_, preds = torch.max(outputs, 1) # Get the predicted classes from the output logits\n",
    "\treturn torch.sum(preds == labels).item() / len(labels) # Return the ratio of correct predictions\n"
   ]
  },
  {
   "cell_type": "code",
   "execution_count": 12,
   "id": "daa4658a",
   "metadata": {},
   "outputs": [],
   "source": [
    "# Define the training loop\n",
    "def train(model, device, train_loader, criterion, optimizer, epoch):\n",
    "\t# Set the model to training mode\n",
    "\tmodel.train()\n",
    "\t# Initialize the running loss and accuracy\n",
    "\trunning_loss = 0.0\n",
    "\trunning_acc = 0.0\n",
    "\t# Loop over the batches of data\n",
    "\tfor i, (inputs, labels) in enumerate(train_loader):\n",
    "\t\t# Move the inputs and labels to the device\n",
    "\t\tinputs = inputs.to(device)\n",
    "\t\tlabels = labels.to(device)\n",
    "\t\t# Zero the parameter gradients\n",
    "\t\toptimizer.zero_grad()\n",
    "\t\t# Forward pass\n",
    "\t\toutputs = model(inputs) # Get the output logits from the model\n",
    "\t\tloss = criterion(outputs, labels) # Calculate the loss\n",
    "\t\t# Backward pass and optimize\n",
    "\t\tloss.backward() # Compute the gradients\n",
    "\t\toptimizer.step() # Update the parameters\n",
    "\t\t# Print the statistics\n",
    "\t\trunning_loss += loss.item() # Accumulate the loss\n",
    "\t\trunning_acc += accuracy(outputs, labels) # Accumulate the accuracy\n",
    "\t\tif (i + 1) % 200 == 0: # Print every 200 batches\n",
    "\t\t\tprint(f'Epoch {epoch}, Batch {i + 1}, Loss: {running_loss / 200:.4f}, Accuracy: {running_acc / 200:.4f}')\n",
    "\t\t\trunning_loss = 0.0\n",
    "\t\t\trunning_acc = 0.0\n",
    "\n",
    "# Define the test loop\n",
    "def test(model, device, test_loader, criterion):\n",
    "\t# Set the model to evaluation mode\n",
    "\tmodel.eval()\n",
    "\t# Initialize the loss and accuracy\n",
    "\ttest_loss = 0.0\n",
    "\ttest_acc = 0.0\n",
    "\t# Loop over the batches of data\n",
    "\twith torch.no_grad(): # No need to track the gradients\n",
    "\t\tfor inputs, labels in test_loader:\n",
    "\t\t\t# Move the inputs and labels to the device\n",
    "\t\t\tinputs = inputs.to(device)\n",
    "\t\t\tlabels = labels.to(device)\n",
    "\t\t\t# Forward pass\n",
    "\t\t\toutputs = model(inputs) # Get the output logits from the model\n",
    "\t\t\tloss = criterion(outputs, labels) # Calculate the loss\n",
    "\t\t\t# Print the statistics\n",
    "\t\t\ttest_loss += loss.item() # Accumulate the loss\n",
    "\t\t\ttest_acc += accuracy(outputs, labels) # Accumulate the accuracy\n",
    "\t# Print the average loss and accuracy\n",
    "\tprint(f'Test Loss: {test_loss / len(test_loader):.4f}, Test Accuracy: {test_acc / len(test_loader):.4f}')\n"
   ]
  },
  {
   "cell_type": "code",
   "execution_count": 13,
   "id": "fefe1875",
   "metadata": {},
   "outputs": [
    {
     "name": "stdout",
     "output_type": "stream",
     "text": [
      "Epoch 1, Batch 200, Loss: 1.1024, Accuracy: 0.7609\n",
      "Epoch 1, Batch 400, Loss: 0.4941, Accuracy: 0.8737\n",
      "Epoch 1, Batch 600, Loss: 0.3922, Accuracy: 0.8938\n",
      "Epoch 1, Batch 800, Loss: 0.3661, Accuracy: 0.8996\n",
      "Test Loss: 0.3053, Test Accuracy: 0.9157\n",
      "Epoch 2, Batch 200, Loss: 0.3138, Accuracy: 0.9105\n",
      "Epoch 2, Batch 400, Loss: 0.2869, Accuracy: 0.9181\n",
      "Epoch 2, Batch 600, Loss: 0.2860, Accuracy: 0.9187\n",
      "Epoch 2, Batch 800, Loss: 0.2844, Accuracy: 0.9191\n",
      "Test Loss: 0.2455, Test Accuracy: 0.9320\n",
      "Epoch 3, Batch 200, Loss: 0.2415, Accuracy: 0.9310\n",
      "Epoch 3, Batch 400, Loss: 0.2480, Accuracy: 0.9284\n",
      "Epoch 3, Batch 600, Loss: 0.2381, Accuracy: 0.9313\n",
      "Epoch 3, Batch 800, Loss: 0.2351, Accuracy: 0.9345\n",
      "Test Loss: 0.2112, Test Accuracy: 0.9405\n",
      "Epoch 4, Batch 200, Loss: 0.2036, Accuracy: 0.9423\n",
      "Epoch 4, Batch 400, Loss: 0.2227, Accuracy: 0.9370\n",
      "Epoch 4, Batch 600, Loss: 0.2003, Accuracy: 0.9439\n",
      "Epoch 4, Batch 800, Loss: 0.1995, Accuracy: 0.9436\n",
      "Test Loss: 0.1847, Test Accuracy: 0.9483\n",
      "Epoch 5, Batch 200, Loss: 0.1942, Accuracy: 0.9450\n",
      "Epoch 5, Batch 400, Loss: 0.1827, Accuracy: 0.9466\n",
      "Epoch 5, Batch 600, Loss: 0.1769, Accuracy: 0.9518\n",
      "Epoch 5, Batch 800, Loss: 0.1739, Accuracy: 0.9502\n",
      "Test Loss: 0.1652, Test Accuracy: 0.9529\n",
      "Epoch 6, Batch 200, Loss: 0.1635, Accuracy: 0.9537\n",
      "Epoch 6, Batch 400, Loss: 0.1685, Accuracy: 0.9515\n",
      "Epoch 6, Batch 600, Loss: 0.1598, Accuracy: 0.9576\n",
      "Epoch 6, Batch 800, Loss: 0.1538, Accuracy: 0.9551\n",
      "Test Loss: 0.1519, Test Accuracy: 0.9554\n",
      "Epoch 7, Batch 200, Loss: 0.1500, Accuracy: 0.9577\n",
      "Epoch 7, Batch 400, Loss: 0.1484, Accuracy: 0.9595\n",
      "Epoch 7, Batch 600, Loss: 0.1359, Accuracy: 0.9625\n",
      "Epoch 7, Batch 800, Loss: 0.1334, Accuracy: 0.9637\n",
      "Test Loss: 0.1393, Test Accuracy: 0.9602\n",
      "Epoch 8, Batch 200, Loss: 0.1326, Accuracy: 0.9644\n",
      "Epoch 8, Batch 400, Loss: 0.1313, Accuracy: 0.9646\n",
      "Epoch 8, Batch 600, Loss: 0.1352, Accuracy: 0.9616\n",
      "Epoch 8, Batch 800, Loss: 0.1254, Accuracy: 0.9651\n",
      "Test Loss: 0.1281, Test Accuracy: 0.9635\n",
      "Epoch 9, Batch 200, Loss: 0.1201, Accuracy: 0.9676\n",
      "Epoch 9, Batch 400, Loss: 0.1211, Accuracy: 0.9661\n",
      "Epoch 9, Batch 600, Loss: 0.1181, Accuracy: 0.9677\n",
      "Epoch 9, Batch 800, Loss: 0.1181, Accuracy: 0.9684\n",
      "Test Loss: 0.1194, Test Accuracy: 0.9649\n",
      "Epoch 10, Batch 200, Loss: 0.1083, Accuracy: 0.9708\n",
      "Epoch 10, Batch 400, Loss: 0.1083, Accuracy: 0.9698\n",
      "Epoch 10, Batch 600, Loss: 0.1122, Accuracy: 0.9684\n",
      "Epoch 10, Batch 800, Loss: 0.1144, Accuracy: 0.9698\n",
      "Test Loss: 0.1125, Test Accuracy: 0.9676\n"
     ]
    },
    {
     "data": {
      "image/png": "[encoded data removed]",
      "text/plain": [
       "<Figure size 576x576 with 9 Axes>"
      ]
     },
     "metadata": {
      "needs_background": "light"
     },
     "output_type": "display_data"
    }
   ],
   "source": [
    "# Train and test the model for the specified number of epochs\n",
    "for epoch in range(1, num_epochs + 1):\n",
    "\ttrain(model, device, train_loader, criterion, optimizer, epoch) # Train the model\n",
    "\ttest(model, device, test_loader, criterion) # Test the model\n",
    "\n",
    "# Visualize some sample images and predictions\n",
    "samples, labels = next(iter(test_loader)) # Get a batch of test data\n",
    "samples = samples.to(device) # Move the samples to the device\n",
    "outputs = model(samples) # Get the output logits from the model\n",
    "_, preds = torch.max(outputs, 1) # Get the predicted classes from the output logits\n",
    "samples = samples.cpu().numpy() # Move the samples back to CPU and convert to numpy array\n",
    "fig, axes = plt.subplots(3, 3, figsize=(8, 8)) # Create a 3x3 grid of subplots\n",
    "for i, ax in enumerate(axes.ravel()):\n",
    "\tax.imshow(samples[i].squeeze(), cmap='gray') # Plot the image\n",
    "\tax.set_title(f'Label: {labels[i]}, Prediction: {preds[i]}') # Set the title\n",
    "\tax.axis('off') # Hide the axes\n",
    "plt.tight_layout() # Adjust the spacing\n",
    "plt.show() # Show the plot\n"
   ]
  },
  {
   "cell_type": "code",
   "execution_count": null,
   "id": "164876f5",
   "metadata": {},
   "outputs": [],
   "source": []
  }
 ],
 "metadata": {
  "kernelspec": {
   "display_name": "Python 3 (ipykernel)",
   "language": "python",
   "name": "python3"
  },
  "language_info": {
   "codemirror_mode": {
    "name": "ipython",
    "version": 3
   },
   "file_extension": ".py",
   "mimetype": "text/x-python",
   "name": "python",
   "nbconvert_exporter": "python",
   "pygments_lexer": "ipython3",
   "version": "3.10.12"
  }
 },
 "nbformat": 4,
 "nbformat_minor": 5
}
