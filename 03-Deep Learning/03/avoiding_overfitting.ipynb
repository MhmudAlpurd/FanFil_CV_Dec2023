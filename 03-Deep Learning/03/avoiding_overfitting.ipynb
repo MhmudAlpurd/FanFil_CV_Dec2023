{
 "cells": [
  {
   "cell_type": "code",
   "execution_count": 1,
   "id": "afa40bad",
   "metadata": {},
   "outputs": [],
   "source": [
    "import numpy as np \n",
    "import tensorflow as tf\n",
    "from tensorflow.keras import layers, models\n",
    "from tensorflow.keras.datasets import mnist\n",
    "\n",
    "\n",
    "#Dataaugmentation\n",
    "from tensorflow.keras.preprocessing.image import ImageDataGenerator\n",
    "\n",
    "#Earlystopping\n",
    "from tensorflow.keras.callbacks import EarlyStopping"
   ]
  },
  {
   "cell_type": "code",
   "execution_count": 2,
   "id": "fab3d8b0",
   "metadata": {},
   "outputs": [],
   "source": [
    "(x_train, y_train), (x_test, y_test) = mnist.load_data()"
   ]
  },
  {
   "cell_type": "code",
   "execution_count": 3,
   "id": "37c327ca",
   "metadata": {},
   "outputs": [],
   "source": [
    "#Scaling\n",
    "x_train = x_train/255.0\n",
    "x_test = x_test/255.0"
   ]
  },
  {
   "cell_type": "code",
   "execution_count": 7,
   "id": "88daf9b0",
   "metadata": {},
   "outputs": [
    {
     "data": {
      "text/plain": [
       "10000"
      ]
     },
     "execution_count": 7,
     "metadata": {},
     "output_type": "execute_result"
    }
   ],
   "source": [
    "x_test.shape[0]"
   ]
  },
  {
   "cell_type": "code",
   "execution_count": 4,
   "id": "920d0536",
   "metadata": {},
   "outputs": [],
   "source": [
    "x_train = x_train.reshape(x_train.shape[0], 28, 28, 1)\n",
    "x_test = x_test.reshape(x_test.shape[0], 28, 28, 1)"
   ]
  },
  {
   "cell_type": "code",
   "execution_count": 8,
   "id": "7b7eda41",
   "metadata": {},
   "outputs": [],
   "source": [
    "#Data aug. \n",
    "datagen = ImageDataGenerator(rotation_range=45)\n",
    "datagen.fit(x_train)"
   ]
  },
  {
   "cell_type": "code",
   "execution_count": 10,
   "id": "888bea82",
   "metadata": {},
   "outputs": [],
   "source": [
    "model = models.Sequential([\n",
    "    layers.Flatten(input_shape = (28, 28, 1)),\n",
    "    layers.Dense(128, activation='relu'),\n",
    "    layers.BatchNormalization(),\n",
    "    layers.Dropout(0.5),\n",
    "    layers.Dense(64, activation='relu'),\n",
    "    layers.BatchNormalization(),\n",
    "    layers.Dropout(0.5),\n",
    "    layers.Dense(10, activation='softmax'),\n",
    "])"
   ]
  },
  {
   "cell_type": "code",
   "execution_count": 11,
   "id": "d02611d4",
   "metadata": {},
   "outputs": [],
   "source": [
    "model.compile(optimizer='adam', loss='sparse_categorical_crossentropy', metrics='accuracy')"
   ]
  },
  {
   "cell_type": "code",
   "execution_count": 12,
   "id": "eff6cf61",
   "metadata": {},
   "outputs": [],
   "source": [
    "#EarlyStopping\n",
    "early_stop = EarlyStopping(monitor='val_loss', patience=3, restore_best_weights=True)"
   ]
  },
  {
   "cell_type": "code",
   "execution_count": 15,
   "id": "56578686",
   "metadata": {},
   "outputs": [
    {
     "name": "stdout",
     "output_type": "stream",
     "text": [
      "Epoch 1/20\n",
      "1875/1875 [==============================] - 23s 12ms/step - loss: 0.3849 - accuracy: 0.8848 - val_loss: 0.1387 - val_accuracy: 0.9573\n",
      "Epoch 2/20\n",
      "1875/1875 [==============================] - 23s 12ms/step - loss: 0.3825 - accuracy: 0.8871 - val_loss: 0.1319 - val_accuracy: 0.9586\n",
      "Epoch 3/20\n",
      "1875/1875 [==============================] - 23s 12ms/step - loss: 0.3682 - accuracy: 0.8897 - val_loss: 0.1312 - val_accuracy: 0.9592\n",
      "Epoch 4/20\n",
      "1875/1875 [==============================] - 23s 12ms/step - loss: 0.3720 - accuracy: 0.8896 - val_loss: 0.1323 - val_accuracy: 0.9594\n",
      "Epoch 5/20\n",
      "1875/1875 [==============================] - 23s 12ms/step - loss: 0.3666 - accuracy: 0.8908 - val_loss: 0.1336 - val_accuracy: 0.9594\n",
      "Epoch 6/20\n",
      "1875/1875 [==============================] - 23s 12ms/step - loss: 0.3567 - accuracy: 0.8968 - val_loss: 0.1286 - val_accuracy: 0.9594\n",
      "Epoch 7/20\n",
      "1875/1875 [==============================] - 23s 12ms/step - loss: 0.3539 - accuracy: 0.8951 - val_loss: 0.1290 - val_accuracy: 0.9613\n",
      "Epoch 8/20\n",
      "1875/1875 [==============================] - 27s 14ms/step - loss: 0.3524 - accuracy: 0.8961 - val_loss: 0.1255 - val_accuracy: 0.9615\n",
      "Epoch 9/20\n",
      "1875/1875 [==============================] - 27s 15ms/step - loss: 0.3507 - accuracy: 0.8971 - val_loss: 0.1283 - val_accuracy: 0.9599\n",
      "Epoch 10/20\n",
      "1875/1875 [==============================] - 27s 14ms/step - loss: 0.3488 - accuracy: 0.8969 - val_loss: 0.1202 - val_accuracy: 0.9632\n",
      "Epoch 11/20\n",
      "1875/1875 [==============================] - 22s 12ms/step - loss: 0.3442 - accuracy: 0.8981 - val_loss: 0.1212 - val_accuracy: 0.9627\n",
      "Epoch 12/20\n",
      "1875/1875 [==============================] - 22s 12ms/step - loss: 0.3457 - accuracy: 0.8983 - val_loss: 0.1208 - val_accuracy: 0.9638\n",
      "Epoch 13/20\n",
      "1875/1875 [==============================] - 22s 12ms/step - loss: 0.3430 - accuracy: 0.8989 - val_loss: 0.1151 - val_accuracy: 0.9655\n",
      "Epoch 14/20\n",
      "1875/1875 [==============================] - 23s 12ms/step - loss: 0.3395 - accuracy: 0.8994 - val_loss: 0.1198 - val_accuracy: 0.9640\n",
      "Epoch 15/20\n",
      "1875/1875 [==============================] - 23s 12ms/step - loss: 0.3355 - accuracy: 0.9009 - val_loss: 0.1140 - val_accuracy: 0.9662\n",
      "Epoch 16/20\n",
      "1875/1875 [==============================] - 23s 12ms/step - loss: 0.3315 - accuracy: 0.9018 - val_loss: 0.1141 - val_accuracy: 0.9645\n",
      "Epoch 17/20\n",
      "1875/1875 [==============================] - 23s 12ms/step - loss: 0.3320 - accuracy: 0.9024 - val_loss: 0.1149 - val_accuracy: 0.9644\n",
      "Epoch 18/20\n",
      "1875/1875 [==============================] - 23s 12ms/step - loss: 0.3280 - accuracy: 0.9032 - val_loss: 0.1178 - val_accuracy: 0.9628\n"
     ]
    }
   ],
   "source": [
    "hist = model.fit(datagen.flow(x_train, y_train, batch_size=32), epochs=20, \n",
    "                    validation_data=(x_test, y_test),callbacks=[early_stop] )"
   ]
  },
  {
   "cell_type": "code",
   "execution_count": 16,
   "id": "0014e358",
   "metadata": {},
   "outputs": [
    {
     "data": {
      "text/plain": [
       "dict_keys(['loss', 'accuracy', 'val_loss', 'val_accuracy'])"
      ]
     },
     "execution_count": 16,
     "metadata": {},
     "output_type": "execute_result"
    }
   ],
   "source": [
    "hist.history.keys()"
   ]
  },
  {
   "cell_type": "code",
   "execution_count": 17,
   "id": "c69c9f98",
   "metadata": {},
   "outputs": [
    {
     "data": {
      "text/plain": [
       "[0.3848807215690613,\n",
       " 0.3825393617153168,\n",
       " 0.3682107627391815,\n",
       " 0.37197431921958923,\n",
       " 0.3665711283683777,\n",
       " 0.356749564409256,\n",
       " 0.35386693477630615,\n",
       " 0.3523523509502411,\n",
       " 0.3507007956504822,\n",
       " 0.34879037737846375,\n",
       " 0.34421226382255554,\n",
       " 0.34566640853881836,\n",
       " 0.3430193364620209,\n",
       " 0.3394933342933655,\n",
       " 0.33551156520843506,\n",
       " 0.3314746618270874,\n",
       " 0.3319817781448364,\n",
       " 0.3280237913131714]"
      ]
     },
     "execution_count": 17,
     "metadata": {},
     "output_type": "execute_result"
    }
   ],
   "source": [
    "hist.history['loss']"
   ]
  },
  {
   "cell_type": "code",
   "execution_count": 21,
   "id": "069be119",
   "metadata": {},
   "outputs": [
    {
     "data": {
      "image/png": "[encoded data removed]",
      "text/plain": [
       "<Figure size 432x288 with 1 Axes>"
      ]
     },
     "metadata": {
      "needs_background": "light"
     },
     "output_type": "display_data"
    }
   ],
   "source": [
    "import matplotlib.pyplot as plt\n",
    "plt.plot(hist.history['loss'])\n",
    "plt.plot(hist.history['val_loss'])\n",
    "plt.title('val_loss vs loss')\n",
    "plt.ylabel('loss')\n",
    "plt.xlabel('epochs')\n",
    "plt.legend(['train', 'test'])\n",
    "plt.show()"
   ]
  },
  {
   "cell_type": "code",
   "execution_count": 23,
   "id": "991edce1",
   "metadata": {},
   "outputs": [
    {
     "name": "stdout",
     "output_type": "stream",
     "text": [
      "313/313 [==============================] - 1s 2ms/step - loss: 0.1140 - accuracy: 0.9662\n",
      "test_loss:  0.11404424160718918\n",
      "test_acc:  0.9661999940872192\n"
     ]
    }
   ],
   "source": [
    "test_loss, test_acc = model.evaluate(x_test, y_test)\n",
    "print('test_loss: ', test_loss)\n",
    "print('test_acc: ', test_acc)"
   ]
  },
  {
   "cell_type": "code",
   "execution_count": 24,
   "id": "b7bf9e4b",
   "metadata": {},
   "outputs": [
    {
     "data": {
      "image/png": "[encoded data removed]",
      "text/plain": [
       "<Figure size 432x288 with 1 Axes>"
      ]
     },
     "metadata": {
      "needs_background": "light"
     },
     "output_type": "display_data"
    }
   ],
   "source": [
    "import matplotlib.pyplot as plt\n",
    "plt.plot(hist.history['accuracy'])\n",
    "plt.plot(hist.history['val_accuracy'])\n",
    "plt.title('val_acc vs acc')\n",
    "plt.ylabel('accuracy')\n",
    "plt.xlabel('epochs')\n",
    "plt.legend(['train', 'test'])\n",
    "plt.show()"
   ]
  },
  {
   "cell_type": "code",
   "execution_count": null,
   "id": "8392c40d",
   "metadata": {},
   "outputs": [],
   "source": []
  }
 ],
 "metadata": {
  "kernelspec": {
   "display_name": "Python 3 (ipykernel)",
   "language": "python",
   "name": "python3"
  },
  "language_info": {
   "codemirror_mode": {
    "name": "ipython",
    "version": 3
   },
   "file_extension": ".py",
   "mimetype": "text/x-python",
   "name": "python",
   "nbconvert_exporter": "python",
   "pygments_lexer": "ipython3",
   "version": "3.10.12"
  }
 },
 "nbformat": 4,
 "nbformat_minor": 5
}
