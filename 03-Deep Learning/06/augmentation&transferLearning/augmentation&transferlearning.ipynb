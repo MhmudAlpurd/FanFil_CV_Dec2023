{
 "cells": [
  {
   "cell_type": "code",
   "execution_count": 1,
   "id": "2e10b2ec",
   "metadata": {},
   "outputs": [
    {
     "name": "stderr",
     "output_type": "stream",
     "text": [
      "2024-05-31 19:47:36.447108: I tensorflow/core/platform/cpu_feature_guard.cc:193] This TensorFlow binary is optimized with oneAPI Deep Neural Network Library (oneDNN) to use the following CPU instructions in performance-critical operations:  AVX2 FMA\n",
      "To enable them in other operations, rebuild TensorFlow with the appropriate compiler flags.\n",
      "2024-05-31 19:47:36.637022: W tensorflow/stream_executor/platform/default/dso_loader.cc:64] Could not load dynamic library 'libcudart.so.11.0'; dlerror: libcudart.so.11.0: cannot open shared object file: No such file or directory; LD_LIBRARY_PATH: /opt/ros/rolling/opt/rviz_ogre_vendor/lib:/opt/ros/rolling/lib/x86_64-linux-gnu:/opt/ros/rolling/lib\n",
      "2024-05-31 19:47:36.637042: I tensorflow/stream_executor/cuda/cudart_stub.cc:29] Ignore above cudart dlerror if you do not have a GPU set up on your machine.\n",
      "2024-05-31 19:47:36.672331: E tensorflow/stream_executor/cuda/cuda_blas.cc:2981] Unable to register cuBLAS factory: Attempting to register factory for plugin cuBLAS when one has already been registered\n",
      "2024-05-31 19:47:37.542478: W tensorflow/stream_executor/platform/default/dso_loader.cc:64] Could not load dynamic library 'libnvinfer.so.7'; dlerror: libnvinfer.so.7: cannot open shared object file: No such file or directory; LD_LIBRARY_PATH: /opt/ros/rolling/opt/rviz_ogre_vendor/lib:/opt/ros/rolling/lib/x86_64-linux-gnu:/opt/ros/rolling/lib\n",
      "2024-05-31 19:47:37.542580: W tensorflow/stream_executor/platform/default/dso_loader.cc:64] Could not load dynamic library 'libnvinfer_plugin.so.7'; dlerror: libnvinfer_plugin.so.7: cannot open shared object file: No such file or directory; LD_LIBRARY_PATH: /opt/ros/rolling/opt/rviz_ogre_vendor/lib:/opt/ros/rolling/lib/x86_64-linux-gnu:/opt/ros/rolling/lib\n",
      "2024-05-31 19:47:37.542589: W tensorflow/compiler/tf2tensorrt/utils/py_utils.cc:38] TF-TRT Warning: Cannot dlopen some TensorRT libraries. If you would like to use Nvidia GPU with TensorRT, please make sure the missing libraries mentioned above are installed properly.\n"
     ]
    }
   ],
   "source": [
    "import keras\n",
    "from keras.datasets import mnist\n",
    "import matplotlib.pyplot as plt"
   ]
  },
  {
   "cell_type": "code",
   "execution_count": 2,
   "id": "7eb53ec1",
   "metadata": {},
   "outputs": [],
   "source": [
    "import numpy as np\n",
    "import tensorflow as tf\n",
    "from keras import layers\n",
    "from keras.preprocessing.image import ImageDataGenerator"
   ]
  },
  {
   "cell_type": "code",
   "execution_count": 3,
   "id": "56bb31a0",
   "metadata": {},
   "outputs": [],
   "source": [
    "(train_images, train_labels), (test_images, test_labels) = mnist.load_data()"
   ]
  },
  {
   "cell_type": "code",
   "execution_count": 4,
   "id": "d23c57d8",
   "metadata": {},
   "outputs": [],
   "source": [
    "train_images = train_images.astype('float32')/255.0\n",
    "test_images = test_images.astype('float32')/255.0"
   ]
  },
  {
   "cell_type": "code",
   "execution_count": 5,
   "id": "81a5b73e",
   "metadata": {},
   "outputs": [],
   "source": [
    "train_labels = keras.utils.to_categorical(train_labels)\n",
    "test_labels = keras.utils.to_categorical(test_labels)"
   ]
  },
  {
   "cell_type": "code",
   "execution_count": 6,
   "id": "77794593",
   "metadata": {},
   "outputs": [],
   "source": [
    "train_images = train_images.reshape(-1, 28, 28, 1)\n",
    "test_images = test_images.reshape(-1, 28, 28, 1)"
   ]
  },
  {
   "cell_type": "code",
   "execution_count": 7,
   "id": "03d54526",
   "metadata": {},
   "outputs": [],
   "source": [
    "#data genaration, data augmentation\n",
    "datagen = ImageDataGenerator(rotation_range=45)\n"
   ]
  },
  {
   "cell_type": "code",
   "execution_count": 8,
   "id": "8253fc81",
   "metadata": {},
   "outputs": [],
   "source": [
    "#train_images = train_images[0:10]\n",
    "#test_images = test_images[0:10]\n",
    "#train_labels = train_labels[0:10]\n",
    "#test_labels = test_labels[0:10]"
   ]
  },
  {
   "cell_type": "code",
   "execution_count": 9,
   "id": "2fb3bc59",
   "metadata": {},
   "outputs": [],
   "source": [
    "generated_data = datagen.flow(train_images, train_labels, batch_size=1000)"
   ]
  },
  {
   "cell_type": "code",
   "execution_count": 10,
   "id": "25ebf9f8",
   "metadata": {},
   "outputs": [
    {
     "name": "stdout",
     "output_type": "stream",
     "text": [
      "number of batches:  60\n",
      "number of images:  1000\n",
      "number of labels:  1000\n"
     ]
    }
   ],
   "source": [
    "batches = generated_data\n",
    "print('number of batches: ', len(batches))\n",
    "batch_0 = generated_data[0]\n",
    "len(batch_0) #2: image, label\n",
    "print('number of images: ', len(batch_0[0])) #images --> 10\n",
    "print('number of labels: ', len(batch_0[1])) #labels --> 10"
   ]
  },
  {
   "cell_type": "code",
   "execution_count": 11,
   "id": "b0198959",
   "metadata": {},
   "outputs": [
    {
     "data": {
      "image/png": "[encoded data removed]",
      "text/plain": [
       "<Figure size 576x576 with 10 Axes>"
      ]
     },
     "metadata": {
      "needs_background": "light"
     },
     "output_type": "display_data"
    }
   ],
   "source": [
    "train_images_sample = train_images[0:10]\n",
    "generated_data_sample = datagen.flow(train_images, train_labels, batch_size=10)\n",
    "\n",
    "rows = 1\n",
    "columns = 10\n",
    "\n",
    "fig = plt.figure(figsize=(8, 8))\n",
    "\n",
    "for i in range(1, 11):\n",
    "    img = train_images_sample[i-1]\n",
    "    fig.add_subplot(rows, columns, i)\n",
    "    plt.axis('off')\n",
    "    plt.imshow(img, cmap='gray')\n",
    "plt.show()"
   ]
  },
  {
   "cell_type": "code",
   "execution_count": 12,
   "id": "149c3396",
   "metadata": {},
   "outputs": [
    {
     "data": {
      "image/png": "[encoded data removed]",
      "text/plain": [
       "<Figure size 576x576 with 10 Axes>"
      ]
     },
     "metadata": {
      "needs_background": "light"
     },
     "output_type": "display_data"
    }
   ],
   "source": [
    "rows = 1\n",
    "columns = 10\n",
    "\n",
    "fig = plt.figure(figsize=(8, 8))\n",
    "\n",
    "for i in range(1, 11):\n",
    "    img = generated_data_sample[0][0][i-1]\n",
    "    fig.add_subplot(rows, columns, i)\n",
    "    plt.axis('off')\n",
    "    plt.imshow(img, cmap='gray')\n",
    "plt.show()"
   ]
  },
  {
   "cell_type": "code",
   "execution_count": 13,
   "id": "e1831d07",
   "metadata": {},
   "outputs": [],
   "source": [
    "concatenated_train_images = np.concatenate((train_images,generated_data[0][0]), axis=0)\n",
    "concatenated_train_labels = np.concatenate((train_labels, generated_data[0][1]), axis=0)"
   ]
  },
  {
   "cell_type": "code",
   "execution_count": 14,
   "id": "14bf6522",
   "metadata": {},
   "outputs": [
    {
     "data": {
      "text/plain": [
       "(61000, 28, 28, 1)"
      ]
     },
     "execution_count": 14,
     "metadata": {},
     "output_type": "execute_result"
    }
   ],
   "source": [
    "concatenated_train_images.shape"
   ]
  },
  {
   "cell_type": "code",
   "execution_count": 15,
   "id": "c509bc30",
   "metadata": {},
   "outputs": [
    {
     "data": {
      "text/plain": [
       "(61000, 10)"
      ]
     },
     "execution_count": 15,
     "metadata": {},
     "output_type": "execute_result"
    }
   ],
   "source": [
    "concatenated_train_labels.shape"
   ]
  },
  {
   "cell_type": "code",
   "execution_count": 16,
   "id": "1101f31c",
   "metadata": {},
   "outputs": [],
   "source": [
    "from keras.models import Sequential\n",
    "from keras import layers"
   ]
  },
  {
   "cell_type": "code",
   "execution_count": 17,
   "id": "466ab592",
   "metadata": {},
   "outputs": [
    {
     "name": "stderr",
     "output_type": "stream",
     "text": [
      "2024-05-31 19:47:41.573315: W tensorflow/stream_executor/platform/default/dso_loader.cc:64] Could not load dynamic library 'libcuda.so.1'; dlerror: libcuda.so.1: cannot open shared object file: No such file or directory; LD_LIBRARY_PATH: /opt/ros/rolling/opt/rviz_ogre_vendor/lib:/opt/ros/rolling/lib/x86_64-linux-gnu:/opt/ros/rolling/lib\n",
      "2024-05-31 19:47:41.573342: W tensorflow/stream_executor/cuda/cuda_driver.cc:263] failed call to cuInit: UNKNOWN ERROR (303)\n",
      "2024-05-31 19:47:41.573361: I tensorflow/stream_executor/cuda/cuda_diagnostics.cc:156] kernel driver does not appear to be running on this host (mhmud): /proc/driver/nvidia/version does not exist\n",
      "2024-05-31 19:47:41.573606: I tensorflow/core/platform/cpu_feature_guard.cc:193] This TensorFlow binary is optimized with oneAPI Deep Neural Network Library (oneDNN) to use the following CPU instructions in performance-critical operations:  AVX2 FMA\n",
      "To enable them in other operations, rebuild TensorFlow with the appropriate compiler flags.\n"
     ]
    }
   ],
   "source": [
    "model = Sequential()\n",
    "\n",
    "#feature extractor\n",
    "model.add(layers.Conv2D(32, kernel_size=(3, 3), padding='same', activation='relu', \n",
    "                        strides=(1, 1), input_shape=(28, 28, 1)))\n",
    "model.add(layers.MaxPool2D(pool_size=(2, 2)))\n",
    "model.add(layers.BatchNormalization())\n",
    "\n",
    "\n",
    "model.add(layers.Conv2D(64, kernel_size=(3, 3), padding='same', activation='relu', \n",
    "                        strides=(1, 1)))\n",
    "model.add(layers.MaxPool2D(pool_size=(2, 2)))\n",
    "model.add(layers.Dropout(0.2))\n",
    "\n",
    "model.add(layers.Conv2D(128, kernel_size=(3, 3), padding='same', activation='relu', \n",
    "                        strides=(1, 1)))\n",
    "\n",
    "model.add(layers.MaxPool2D(pool_size=(2, 2)))\n",
    "\n",
    "#classifier\n",
    "model.add(layers.Flatten())\n",
    "model.add(layers.Dense(10, activation='softmax'))\n"
   ]
  },
  {
   "cell_type": "code",
   "execution_count": 18,
   "id": "0688498b",
   "metadata": {},
   "outputs": [
    {
     "name": "stderr",
     "output_type": "stream",
     "text": [
      "2024-05-31 19:47:41.738040: W tensorflow/core/framework/cpu_allocator_impl.cc:82] Allocation of 172166400 exceeds 10% of free system memory.\n"
     ]
    },
    {
     "name": "stdout",
     "output_type": "stream",
     "text": [
      "1716/1716 [==============================] - 62s 36ms/step - loss: 0.1263 - accuracy: 0.9605 - val_loss: 0.1673 - val_accuracy: 0.9498\n"
     ]
    },
    {
     "data": {
      "text/plain": [
       "<keras.callbacks.History at 0x737d046af7f0>"
      ]
     },
     "execution_count": 18,
     "metadata": {},
     "output_type": "execute_result"
    }
   ],
   "source": [
    "model.compile(optimizer='adam', loss='categorical_crossentropy', metrics=['accuracy'])\n",
    "model.fit(concatenated_train_images, concatenated_train_labels, validation_split=0.1,\n",
    "          verbose=1, epochs=1, batch_size=32)"
   ]
  },
  {
   "cell_type": "code",
   "execution_count": 19,
   "id": "ddac5eda",
   "metadata": {},
   "outputs": [],
   "source": [
    "model.save('mnist_model_img_70000_eph_5.h5')"
   ]
  },
  {
   "cell_type": "code",
   "execution_count": 20,
   "id": "e8409642",
   "metadata": {},
   "outputs": [],
   "source": [
    "loaded_model = keras.models.load_model('mnist_model_img_70000_eph_5.h5')\n"
   ]
  },
  {
   "cell_type": "code",
   "execution_count": null,
   "id": "52608f56",
   "metadata": {},
   "outputs": [
    {
     "name": "stdout",
     "output_type": "stream",
     "text": [
      "1/1 [==============================] - 0s 209ms/step\n"
     ]
    },
    {
     "data": {
      "text/plain": [
       "1"
      ]
     },
     "execution_count": 21,
     "metadata": {},
     "output_type": "execute_result"
    }
   ],
   "source": [
    "import cv2\n",
    "test_img = cv2.imread('seven.png', cv2.IMREAD_GRAYSCALE)\n",
    "plt.imshow(test_img, cmap='gray')\n",
    "test_img_resized =  cv2.resize(test_img, (28, 28))\n",
    "test_img_flatten = test_img_resized.reshape(1, 28, 28, 1)\n",
    "test_img_normalized = test_img_flatten.astype('float32')/255.\n",
    "\n",
    "pred = loaded_model.predict(test_img_normalized)\n",
    "prediced_label = np.argmax(pred)\n",
    "prediced_label"
   ]
  },
  {
   "cell_type": "code",
   "execution_count": null,
   "id": "1baca715",
   "metadata": {},
   "outputs": [],
   "source": [
    "loaded_model.summary()"
   ]
  },
  {
   "cell_type": "code",
   "execution_count": null,
   "id": "298017cc",
   "metadata": {},
   "outputs": [],
   "source": [
    "for layer in loaded_model.layers:\n",
    "    print(layer)"
   ]
  },
  {
   "cell_type": "code",
   "execution_count": null,
   "id": "9f177d90",
   "metadata": {},
   "outputs": [],
   "source": [
    "feature_extractor = keras.models.Model(inputs=loaded_model.input, outputs=loaded_model.layers[-3].output)"
   ]
  },
  {
   "cell_type": "code",
   "execution_count": null,
   "id": "65c2b55c",
   "metadata": {},
   "outputs": [],
   "source": [
    "feature_extractor.summary()"
   ]
  },
  {
   "cell_type": "code",
   "execution_count": null,
   "id": "6c52a04a",
   "metadata": {},
   "outputs": [],
   "source": [
    "#Fine Tuning!\n",
    "model1 = Sequential()\n",
    "model1.add(feature_extractor)\n",
    "model1.add(layers.Conv2D(528, (1, 1), activation='relu'))\n",
    "model1.add(layers.Flatten())\n",
    "model1.add(layers.Dense(10, activation='softmax'))\n"
   ]
  },
  {
   "cell_type": "code",
   "execution_count": null,
   "id": "b83abe5c",
   "metadata": {},
   "outputs": [],
   "source": [
    "model1.summary()"
   ]
  },
  {
   "cell_type": "code",
   "execution_count": null,
   "id": "5ac4280e",
   "metadata": {},
   "outputs": [],
   "source": [
    "#Freezing the weights.\n",
    "for layer in feature_extractor.layers:\n",
    "    layer.trainable=False\n",
    "\n",
    "    \n",
    "#feature_extractor.trainable = False"
   ]
  },
  {
   "cell_type": "code",
   "execution_count": null,
   "id": "d3ccc33f",
   "metadata": {},
   "outputs": [],
   "source": [
    "model1.compile(optimizer='adam', loss='categorical_crossentropy', metrics=['accuracy'])\n",
    "model1.fit(concatenated_train_images, concatenated_train_labels, validation_split=0.1,\n",
    "          verbose=1, epochs=1, batch_size=32)"
   ]
  },
  {
   "cell_type": "code",
   "execution_count": null,
   "id": "4d5ca1fb",
   "metadata": {},
   "outputs": [],
   "source": [
    "#resnet50\n",
    "pretrained_model_resnet50_top_false = tf.keras.applications.ResNet50(include_top=False, input_shape=(32, 32, 3)\n",
    "                                                          ,weights='imagenet')"
   ]
  },
  {
   "cell_type": "code",
   "execution_count": null,
   "id": "1a6038a2",
   "metadata": {},
   "outputs": [],
   "source": [
    "for layer in pretrained_model_resnet50_top_false.layers:\n",
    "    layer.trainable=False"
   ]
  },
  {
   "cell_type": "code",
   "execution_count": null,
   "id": "5a6abf05",
   "metadata": {},
   "outputs": [],
   "source": [
    "pretrained_model_resnet50_top_false.summary()"
   ]
  },
  {
   "cell_type": "code",
   "execution_count": null,
   "id": "0ae8e36f",
   "metadata": {},
   "outputs": [],
   "source": [
    "#resnet50\n",
    "pretrained_model_resnet50_top_true = tf.keras.applications.ResNet50(include_top=True, input_shape=(224, 224, 3)\n",
    "                                                          ,weights='imagenet')"
   ]
  },
  {
   "cell_type": "code",
   "execution_count": null,
   "id": "39a62195",
   "metadata": {},
   "outputs": [],
   "source": [
    "pretrained_model_resnet50_top_true.summary()"
   ]
  },
  {
   "cell_type": "code",
   "execution_count": null,
   "id": "12311ece",
   "metadata": {},
   "outputs": [],
   "source": [
    "#Fine Tuning!\n",
    "model2 = Sequential()\n",
    "model2.add(pretrained_model_resnet50_top_false)\n",
    "model2.add(layers.Conv2D(528, (1, 1), activation='relu'))\n",
    "model2.add(layers.Flatten())\n",
    "model2.add(layers.Dense(10, activation='softmax'))"
   ]
  },
  {
   "cell_type": "code",
   "execution_count": null,
   "id": "8a5bae2b",
   "metadata": {},
   "outputs": [],
   "source": [
    "model2.summary()"
   ]
  },
  {
   "cell_type": "code",
   "execution_count": null,
   "id": "bfa1cbdf",
   "metadata": {},
   "outputs": [],
   "source": [
    "#resnet50\n",
    "#vgg16 = tf.keras.applications.VGG16(include_top=False, input_shape=(32, 32, 3),weights='imagenet')"
   ]
  },
  {
   "cell_type": "code",
   "execution_count": null,
   "id": "4dd0b54e",
   "metadata": {},
   "outputs": [],
   "source": []
  }
 ],
 "metadata": {
  "kernelspec": {
   "display_name": "Python 3 (ipykernel)",
   "language": "python",
   "name": "python3"
  },
  "language_info": {
   "codemirror_mode": {
    "name": "ipython",
    "version": 3
   },
   "file_extension": ".py",
   "mimetype": "text/x-python",
   "name": "python",
   "nbconvert_exporter": "python",
   "pygments_lexer": "ipython3",
   "version": "3.10.12"
  }
 },
 "nbformat": 4,
 "nbformat_minor": 5
}
