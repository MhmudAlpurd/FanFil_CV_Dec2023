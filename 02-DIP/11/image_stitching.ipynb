{
 "cells": [
  {
   "cell_type": "code",
   "execution_count": 1,
   "id": "269d61f2",
   "metadata": {},
   "outputs": [],
   "source": [
    "import cv2\n",
    "import numpy as np"
   ]
  },
  {
   "cell_type": "code",
   "execution_count": 2,
   "id": "ef5e7cf0",
   "metadata": {},
   "outputs": [],
   "source": [
    "image1 = cv2.imread('right.jpg')\n",
    "image2 = cv2.imread('left.jpg')"
   ]
  },
  {
   "cell_type": "code",
   "execution_count": 3,
   "id": "4bb11c30",
   "metadata": {},
   "outputs": [],
   "source": [
    "img1_gray = cv2.cvtColor(image1, cv2.COLOR_BGR2GRAY)\n",
    "img2_gray = cv2.cvtColor(image2, cv2.COLOR_BGR2GRAY)"
   ]
  },
  {
   "cell_type": "code",
   "execution_count": 4,
   "id": "57af7ef4",
   "metadata": {},
   "outputs": [],
   "source": [
    "sift = cv2.SIFT_create()"
   ]
  },
  {
   "cell_type": "code",
   "execution_count": 5,
   "id": "591325a6",
   "metadata": {},
   "outputs": [],
   "source": [
    "keypoints1, descriptor1 = sift.detectAndCompute(img1_gray, None)\n",
    "keypoints2, descriptor2 = sift.detectAndCompute(img2_gray, None)"
   ]
  },
  {
   "cell_type": "code",
   "execution_count": 6,
   "id": "790c48a7",
   "metadata": {},
   "outputs": [],
   "source": [
    "matcher = cv2.BFMatcher()\n",
    "matches =matcher.knnMatch(descriptor1, descriptor2, k=2)"
   ]
  },
  {
   "cell_type": "code",
   "execution_count": 7,
   "id": "3edfd903",
   "metadata": {},
   "outputs": [],
   "source": [
    "#lowe's ratio!\n",
    "\n",
    "good = []\n",
    "\n",
    "for m, n  in matches:\n",
    "    if m.distance < 0.75*n.distance:\n",
    "        good.append(m)"
   ]
  },
  {
   "cell_type": "code",
   "execution_count": null,
   "id": "a53642c6",
   "metadata": {},
   "outputs": [],
   "source": [
    "MIN_MATCH_COUNT = 10\n",
    "if len(good) > MIN_MATCH_COUNT:\n",
    "    src_pts = np.float32([keypoints1[m.queryIdx].pt for m in good] ).reshape(-1, 1, 2)\n",
    "    dst_pts = np.float32([keypoints2[m.trainIdx].pt for m in good] ).reshape(-1, 1, 2)\n",
    "    \n",
    "    M, mask = cv2.findHomography(src_pts, dst_pts, cv2.RANSAC, 5.0)\n",
    "    \n",
    "    h, w, _ = image1.shape\n",
    "    pts = np.float32([[0, 0], [0, h-1], [w-1, h-1], [w-1, 0]]).reshape(-1, 1, 2)\n",
    "    dst = cv2.perspectiveTransform(pts, M)\n",
    "    \n",
    "    image2 = cv2.polylines(image2, [np.int32(dst)], True, 255, 3, cv2.LINE_AA)\n",
    "    dst = cv2.warpPerspective(image1, M, (image2.shape[1] + image1.shape[1], image2.shape[0]))\n",
    "    dst[0:image2.shape[0], 0:image2.shape[1]] = image2\n",
    "\n",
    "    cv2.imshow(\"Stitched Image\", dst)\n",
    "    cv2.waitKey(0)\n",
    "    cv2.destroyAllWindows()"
   ]
  },
  {
   "cell_type": "code",
   "execution_count": null,
   "id": "8dcab621",
   "metadata": {},
   "outputs": [],
   "source": []
  },
  {
   "cell_type": "code",
   "execution_count": null,
   "id": "a0044134",
   "metadata": {},
   "outputs": [],
   "source": []
  },
  {
   "cell_type": "code",
   "execution_count": null,
   "id": "f86cf65a",
   "metadata": {},
   "outputs": [],
   "source": []
  },
  {
   "cell_type": "code",
   "execution_count": null,
   "id": "e827108b",
   "metadata": {},
   "outputs": [],
   "source": []
  },
  {
   "cell_type": "code",
   "execution_count": null,
   "id": "334779f2",
   "metadata": {},
   "outputs": [],
   "source": []
  },
  {
   "cell_type": "code",
   "execution_count": null,
   "id": "99005182",
   "metadata": {},
   "outputs": [],
   "source": []
  },
  {
   "cell_type": "code",
   "execution_count": null,
   "id": "35fd5e82",
   "metadata": {},
   "outputs": [],
   "source": [
    "\n"
   ]
  },
  {
   "cell_type": "code",
   "execution_count": null,
   "id": "254196a7",
   "metadata": {},
   "outputs": [],
   "source": []
  },
  {
   "cell_type": "code",
   "execution_count": null,
   "id": "8b26d174",
   "metadata": {},
   "outputs": [],
   "source": []
  },
  {
   "cell_type": "code",
   "execution_count": null,
   "id": "db07a93b",
   "metadata": {},
   "outputs": [],
   "source": []
  }
 ],
 "metadata": {
  "kernelspec": {
   "display_name": "Python 3 (ipykernel)",
   "language": "python",
   "name": "python3"
  },
  "language_info": {
   "codemirror_mode": {
    "name": "ipython",
    "version": 3
   },
   "file_extension": ".py",
   "mimetype": "text/x-python",
   "name": "python",
   "nbconvert_exporter": "python",
   "pygments_lexer": "ipython3",
   "version": "3.10.12"
  }
 },
 "nbformat": 4,
 "nbformat_minor": 5
}
